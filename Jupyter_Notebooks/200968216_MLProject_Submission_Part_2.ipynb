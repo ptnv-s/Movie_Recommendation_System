{
 "cells": [
  {
   "cell_type": "markdown",
   "id": "SuGPuyIUSlcG",
   "metadata": {
    "id": "SuGPuyIUSlcG"
   },
   "source": [
    "# **Pratinav Seth**\n",
    "\n",
    "## **Reg. No - 200968216**\n",
    "\n",
    "### **Section A Batch 2**\n",
    "\n",
    "### **B.Tech - Data Science and Engineering**\n"
   ]
  },
  {
   "cell_type": "markdown",
   "id": "7Y_XatJrTxjD",
   "metadata": {
    "id": "7Y_XatJrTxjD"
   },
   "source": [
    "# **DSE 2262 MACHINE LEARNING LABORATORY  - Mini Project**"
   ]
  },
  {
   "cell_type": "markdown",
   "id": "SbhsgA3gNqNX",
   "metadata": {
    "id": "SbhsgA3gNqNX"
   },
   "source": [
    "# **Objective:**\n",
    "\n",
    "Build an app with a simple UI which will allow the user to search for movies and give recommendations based on the user and the movie searched for by use of content based and collaborative filtering."
   ]
  },
  {
   "cell_type": "markdown",
   "id": "qIBP-61ONvDR",
   "metadata": {
    "id": "qIBP-61ONvDR"
   },
   "source": [
    "## **Dataset –**\n",
    "\n",
    "#### •\tGroupLens Research MovieLens ml-latest-small dataset\n",
    "    It consists of 100,000 ratings and 3,600 tag applications applied to 9,000 movies by 600 users. Last updated 9/2018."
   ]
  },
  {
   "cell_type": "markdown",
   "id": "7Tp7-RaHN3yL",
   "metadata": {
    "id": "7Tp7-RaHN3yL"
   },
   "source": [
    "# **Machine Learning Objectives and Approach:**\n",
    "\n",
    "## **Recommendation System to be used:**\n",
    "\n",
    "Will be trying to implement-\n",
    "\n",
    "1.\t**Content based filtering–**\n",
    "\n",
    "  a.\tRecommending movies based on search made by user by comparing similarities between genres\n",
    "\n",
    "  b.\t Recommending movies based on previous watch history of a user based on genres of previous movies\n",
    "\n",
    "2.\t**Collaborative Filtering-**\n",
    "\n",
    "  a.\tItem-Item Filtering – Given user-id Recommends Movies which isn’t seen by user based on ratings of user towards a movie he had seen\n",
    "\n",
    "  b.\tUser-Item Filtering – Given user-id in database tries to find user most similar and then recommends what that user has seen but our user hasn’t\n",
    "\n",
    "\n",
    "**NOTE:**\n",
    "\n",
    "Will try to explore GNN for Collaborative Item-Item Filtering if its within time and resource compute of given timelines of project. Along with that will also try to explore other ML based approaches for the same subject to if its within time and resource compute of given timelines of project."
   ]
  },
  {
   "cell_type": "markdown",
   "id": "gCeCspytD6oG",
   "metadata": {
    "id": "gCeCspytD6oG"
   },
   "source": [
    "# **Meta-Data of Dataset:**\n",
    "\n",
    "## **Dataset -** \n",
    "GroupLens Research MovieLens ml-latest-small dataset\n",
    "\n",
    "\tIt consists of 100,000 ratings and 3,600 tag applications applied to 9,000 movies by 600 users. Last updated 9/2018.\n",
    "\n",
    "## **Summary**\n",
    "\n",
    "This dataset (ml-latest-small) describes 5-star rating and free-text tagging activity from [MovieLens](http://movielens.org), a movie recommendation service. It contains 100836 ratings and 3683 tag applications across 9742 movies. These data were created by 610 users between March 29, 1996 and September 24, 2018. This dataset was generated on September 26, 2018.\n",
    "\n",
    "Users were selected at random for inclusion. All selected users had rated at least 20 movies. No demographic information is included. Each user is represented by an id, and no other information is provided.\n",
    "The data are contained in the files `links.csv`, `movies.csv`, `ratings.csv` and `tags.csv`. More details about the contents and use of all these files follows.\n",
    "\n",
    "This is a *development* dataset. As such, it may change over time and is not an appropriate dataset for shared research results. See available *benchmark* datasets if that is your intent.\n",
    "This and other GroupLens data sets are publicly available for download at <http://grouplens.org/datasets/>."
   ]
  },
  {
   "cell_type": "markdown",
   "id": "1gIdDkR_imIf",
   "metadata": {
    "id": "1gIdDkR_imIf"
   },
   "source": [
    "## **Model Building and API Building - PHASE 2**"
   ]
  },
  {
   "cell_type": "markdown",
   "id": "a-AJ55WSTRPZ",
   "metadata": {
    "id": "a-AJ55WSTRPZ"
   },
   "source": [
    "### Importing Libraries"
   ]
  },
  {
   "cell_type": "code",
   "execution_count": 1,
   "id": "ee866cdc",
   "metadata": {
    "id": "ee866cdc"
   },
   "outputs": [],
   "source": [
    "import pandas as pd\n",
    "import numpy as np\n",
    "import seaborn as sns\n",
    "from matplotlib import pyplot as plt\n",
    "from wordcloud import WordCloud, STOPWORDS\n",
    "import recmetrics\n"
   ]
  },
  {
   "cell_type": "markdown",
   "id": "yTN8RD5lEObn",
   "metadata": {
    "id": "yTN8RD5lEObn"
   },
   "source": [
    "### Import train and test CSV files"
   ]
  },
  {
   "cell_type": "code",
   "execution_count": 2,
   "id": "afe79121",
   "metadata": {
    "id": "afe79121"
   },
   "outputs": [],
   "source": [
    "df_movies = pd.read_csv(\"movies.csv\")\n",
    "df_ratings = pd.read_csv(\"ratings.csv\")\n",
    "df_links = pd.read_csv(\"links.csv\")\n",
    "df_tags = pd.read_csv(\"tags.csv\")"
   ]
  },
  {
   "cell_type": "markdown",
   "id": "n6FR8tkFEZ_o",
   "metadata": {
    "id": "n6FR8tkFEZ_o"
   },
   "source": [
    "### List of the features within the dataset"
   ]
  },
  {
   "cell_type": "code",
   "execution_count": 3,
   "id": "f402bbe4",
   "metadata": {
    "colab": {
     "base_uri": "https://localhost:8080/"
    },
    "id": "f402bbe4",
    "outputId": "4b46180c-02eb-4eb6-913f-5ea3f795b294"
   },
   "outputs": [
    {
     "name": "stdout",
     "output_type": "stream",
     "text": [
      "Movie :  Index(['movieId', 'title', 'genres'], dtype='object')\n",
      "\n",
      "Rating :  Index(['userId', 'movieId', 'rating', 'timestamp'], dtype='object')\n",
      "\n",
      "Links :  Index(['movieId', 'imdbId', 'tmdbId'], dtype='object')\n",
      "\n",
      "Tags :  Index(['userId', 'movieId', 'tag', 'timestamp'], dtype='object')\n",
      "\n"
     ]
    }
   ],
   "source": [
    "print(\"Movie : \", df_movies.columns,end=\"\\n\\n\")\n",
    "print(\"Rating : \", df_ratings.columns,end=\"\\n\\n\")\n",
    "print(\"Links : \", df_links.columns,end=\"\\n\\n\")\n",
    "print(\"Tags : \", df_tags.columns,end=\"\\n\\n\")"
   ]
  },
  {
   "cell_type": "markdown",
   "id": "nf7wbj5HFCAe",
   "metadata": {
    "id": "nf7wbj5HFCAe"
   },
   "source": [
    "### Dropping the timestamp from ratings and tags dataframes"
   ]
  },
  {
   "cell_type": "code",
   "execution_count": 4,
   "id": "d4c87cf5-9f1f-459c-ab7c-81c5b5665602",
   "metadata": {
    "id": "d4c87cf5-9f1f-459c-ab7c-81c5b5665602"
   },
   "outputs": [],
   "source": [
    "df_ratings.drop(columns='timestamp',inplace=True)\n",
    "df_tags.drop(columns='timestamp',inplace=True)"
   ]
  },
  {
   "cell_type": "code",
   "execution_count": 5,
   "id": "d8e44064",
   "metadata": {},
   "outputs": [],
   "source": [
    "from sklearn.feature_extraction.text import TfidfVectorizer\n",
    "from sklearn.metrics.pairwise import linear_kernel"
   ]
  },
  {
   "cell_type": "markdown",
   "id": "9733dca7",
   "metadata": {},
   "source": [
    "### MODEL 0 - API 0\n",
    "\n",
    "### **Cold Start**\n",
    "\n",
    "**Recommending top 10 most popular movies if its a new user**"
   ]
  },
  {
   "cell_type": "code",
   "execution_count": 6,
   "id": "623b3fb0",
   "metadata": {},
   "outputs": [],
   "source": [
    "def cold_start_check(userid):\n",
    "    if(userid in set(df_ratings[\"userId\"])):\n",
    "        return 0\n",
    "    else:\n",
    "        x=df_ratings.groupby('movieId').rating.mean()\n",
    "        movie = pd.merge(df_movies,x,how='outer',on='movieId')\n",
    "        movie['rating'].fillna('0',inplace=True)\n",
    "        x = df_ratings.groupby('movieId',as_index=False).userId.count()\n",
    "        x.sort_values('userId',ascending=False,inplace=True)\n",
    "        y = pd.merge(movie,x,how='outer',on='movieId')\n",
    "        y.sort_values(['userId','rating'],ascending=False,inplace=True)\n",
    "        df_return = y[0:10]\n",
    "        return df_return\n",
    "    "
   ]
  },
  {
   "cell_type": "code",
   "execution_count": 7,
   "id": "ebdc96ae",
   "metadata": {},
   "outputs": [
    {
     "data": {
      "text/html": [
       "<div>\n",
       "<style scoped>\n",
       "    .dataframe tbody tr th:only-of-type {\n",
       "        vertical-align: middle;\n",
       "    }\n",
       "\n",
       "    .dataframe tbody tr th {\n",
       "        vertical-align: top;\n",
       "    }\n",
       "\n",
       "    .dataframe thead th {\n",
       "        text-align: right;\n",
       "    }\n",
       "</style>\n",
       "<table border=\"1\" class=\"dataframe\">\n",
       "  <thead>\n",
       "    <tr style=\"text-align: right;\">\n",
       "      <th></th>\n",
       "      <th>movieId</th>\n",
       "      <th>title</th>\n",
       "      <th>genres</th>\n",
       "      <th>rating</th>\n",
       "      <th>userId</th>\n",
       "    </tr>\n",
       "  </thead>\n",
       "  <tbody>\n",
       "    <tr>\n",
       "      <th>314</th>\n",
       "      <td>356</td>\n",
       "      <td>Forrest Gump (1994)</td>\n",
       "      <td>Comedy|Drama|Romance|War</td>\n",
       "      <td>4.164134</td>\n",
       "      <td>329.0</td>\n",
       "    </tr>\n",
       "    <tr>\n",
       "      <th>277</th>\n",
       "      <td>318</td>\n",
       "      <td>Shawshank Redemption, The (1994)</td>\n",
       "      <td>Crime|Drama</td>\n",
       "      <td>4.429022</td>\n",
       "      <td>317.0</td>\n",
       "    </tr>\n",
       "    <tr>\n",
       "      <th>257</th>\n",
       "      <td>296</td>\n",
       "      <td>Pulp Fiction (1994)</td>\n",
       "      <td>Comedy|Crime|Drama|Thriller</td>\n",
       "      <td>4.197068</td>\n",
       "      <td>307.0</td>\n",
       "    </tr>\n",
       "    <tr>\n",
       "      <th>510</th>\n",
       "      <td>593</td>\n",
       "      <td>Silence of the Lambs, The (1991)</td>\n",
       "      <td>Crime|Horror|Thriller</td>\n",
       "      <td>4.16129</td>\n",
       "      <td>279.0</td>\n",
       "    </tr>\n",
       "    <tr>\n",
       "      <th>1939</th>\n",
       "      <td>2571</td>\n",
       "      <td>Matrix, The (1999)</td>\n",
       "      <td>Action|Sci-Fi|Thriller</td>\n",
       "      <td>4.192446</td>\n",
       "      <td>278.0</td>\n",
       "    </tr>\n",
       "    <tr>\n",
       "      <th>224</th>\n",
       "      <td>260</td>\n",
       "      <td>Star Wars: Episode IV - A New Hope (1977)</td>\n",
       "      <td>Action|Adventure|Sci-Fi</td>\n",
       "      <td>4.231076</td>\n",
       "      <td>251.0</td>\n",
       "    </tr>\n",
       "    <tr>\n",
       "      <th>418</th>\n",
       "      <td>480</td>\n",
       "      <td>Jurassic Park (1993)</td>\n",
       "      <td>Action|Adventure|Sci-Fi|Thriller</td>\n",
       "      <td>3.75</td>\n",
       "      <td>238.0</td>\n",
       "    </tr>\n",
       "    <tr>\n",
       "      <th>97</th>\n",
       "      <td>110</td>\n",
       "      <td>Braveheart (1995)</td>\n",
       "      <td>Action|Drama|War</td>\n",
       "      <td>4.031646</td>\n",
       "      <td>237.0</td>\n",
       "    </tr>\n",
       "    <tr>\n",
       "      <th>507</th>\n",
       "      <td>589</td>\n",
       "      <td>Terminator 2: Judgment Day (1991)</td>\n",
       "      <td>Action|Sci-Fi</td>\n",
       "      <td>3.970982</td>\n",
       "      <td>224.0</td>\n",
       "    </tr>\n",
       "    <tr>\n",
       "      <th>461</th>\n",
       "      <td>527</td>\n",
       "      <td>Schindler's List (1993)</td>\n",
       "      <td>Drama|War</td>\n",
       "      <td>4.225</td>\n",
       "      <td>220.0</td>\n",
       "    </tr>\n",
       "  </tbody>\n",
       "</table>\n",
       "</div>"
      ],
      "text/plain": [
       "      movieId                                      title  \\\n",
       "314       356                        Forrest Gump (1994)   \n",
       "277       318           Shawshank Redemption, The (1994)   \n",
       "257       296                        Pulp Fiction (1994)   \n",
       "510       593           Silence of the Lambs, The (1991)   \n",
       "1939     2571                         Matrix, The (1999)   \n",
       "224       260  Star Wars: Episode IV - A New Hope (1977)   \n",
       "418       480                       Jurassic Park (1993)   \n",
       "97        110                          Braveheart (1995)   \n",
       "507       589          Terminator 2: Judgment Day (1991)   \n",
       "461       527                    Schindler's List (1993)   \n",
       "\n",
       "                                genres    rating  userId  \n",
       "314           Comedy|Drama|Romance|War  4.164134   329.0  \n",
       "277                        Crime|Drama  4.429022   317.0  \n",
       "257        Comedy|Crime|Drama|Thriller  4.197068   307.0  \n",
       "510              Crime|Horror|Thriller   4.16129   279.0  \n",
       "1939            Action|Sci-Fi|Thriller  4.192446   278.0  \n",
       "224            Action|Adventure|Sci-Fi  4.231076   251.0  \n",
       "418   Action|Adventure|Sci-Fi|Thriller      3.75   238.0  \n",
       "97                    Action|Drama|War  4.031646   237.0  \n",
       "507                      Action|Sci-Fi  3.970982   224.0  \n",
       "461                          Drama|War     4.225   220.0  "
      ]
     },
     "execution_count": 7,
     "metadata": {},
     "output_type": "execute_result"
    }
   ],
   "source": [
    "cold_start_check(999999)"
   ]
  },
  {
   "cell_type": "markdown",
   "id": "ab442b3e",
   "metadata": {},
   "source": [
    "### MODEL 1 - API 1\n",
    "\n",
    "### **Content based filtering–**\n",
    "\n",
    "**Recommending movies based on search made by user by comparing similarities between genres**"
   ]
  },
  {
   "cell_type": "code",
   "execution_count": 8,
   "id": "b58f3bd7",
   "metadata": {},
   "outputs": [],
   "source": [
    "tfidf_movies_genres = TfidfVectorizer(token_pattern = '[a-zA-Z0-9\\-]+')\n",
    "df_movies['genres'] = df_movies['genres'].replace(to_replace=\"(no genres listed)\", value=\"\")\n",
    "tfidf_movies_genres_matrix = tfidf_movies_genres.fit_transform(df_movies['genres'])\n",
    "cosine_sim_movies = linear_kernel(tfidf_movies_genres_matrix, tfidf_movies_genres_matrix)"
   ]
  },
  {
   "cell_type": "code",
   "execution_count": 9,
   "id": "4f986328",
   "metadata": {},
   "outputs": [],
   "source": [
    "def get_recommendations_based_on_genres(movie_title, cosine_sim_movies=cosine_sim_movies):\n",
    "    idx_movie = df_movies.loc[df_movies['title'].isin([movie_title])]\n",
    "    idx_movie = idx_movie.index\n",
    "    sim_scores_movies = list(enumerate(cosine_sim_movies[idx_movie][0]))\n",
    "    sim_scores_movies = sorted(sim_scores_movies, key=lambda x: x[1], reverse=True)\n",
    "    sim_scores_movies = sim_scores_movies[1:3]\n",
    "    movie_indices = [i[0] for i in sim_scores_movies]\n",
    "    return df_movies['title'].iloc[movie_indices]"
   ]
  },
  {
   "cell_type": "code",
   "execution_count": 10,
   "id": "58e74c88",
   "metadata": {},
   "outputs": [
    {
     "data": {
      "text/plain": [
       "17                        Four Rooms (1995)\n",
       "18    Ace Ventura: When Nature Calls (1995)\n",
       "Name: title, dtype: object"
      ]
     },
     "execution_count": 10,
     "metadata": {},
     "output_type": "execute_result"
    }
   ],
   "source": [
    "get_recommendations_based_on_genres(\"Father of the Bride Part II (1995)\")"
   ]
  },
  {
   "cell_type": "code",
   "execution_count": null,
   "id": "1f30477c",
   "metadata": {},
   "outputs": [],
   "source": []
  },
  {
   "cell_type": "markdown",
   "id": "6eef95df",
   "metadata": {},
   "source": [
    "### STILL IN PROGRESS\n",
    "\n",
    "\n",
    "### Evaluating Content Based Filtering Model using KNN\n",
    "\n",
    "**Where We are Recommending movies based on search made by user by comparing similarities between genres**"
   ]
  },
  {
   "cell_type": "code",
   "execution_count": 11,
   "id": "eae112d4",
   "metadata": {},
   "outputs": [],
   "source": [
    "from sklearn.neighbors import KNeighborsClassifier  \n",
    "def get_movie_label(movie_id):\n",
    "    classifier = KNeighborsClassifier(n_neighbors=5)\n",
    "    x= tfidf_movies_genres_matrix\n",
    "    y = df_movies.iloc[:,-1]\n",
    "    classifier.fit(x, y)\n",
    "    y_pred = classifier.predict(tfidf_movies_genres_matrix[movie_id])\n",
    "    return y_pred"
   ]
  },
  {
   "cell_type": "code",
   "execution_count": 12,
   "id": "f6e336fa",
   "metadata": {
    "scrolled": true
   },
   "outputs": [
    {
     "name": "stdout",
     "output_type": "stream",
     "text": [
      "Hit:0.9325087251077807\n",
      "Fault:0.06749127489221926\n"
     ]
    }
   ],
   "source": [
    "true_count = 0\n",
    "false_count = 0\n",
    "def evaluate_content_based_model():\n",
    "    \"\"\"\n",
    "    Evaluate content based model.  \n",
    "    \"\"\"\n",
    "    for key, colums in df_movies.iterrows():\n",
    "        movies_recommended_by_model = get_recommendations_based_on_genres(colums[\"title\"])\n",
    "        predicted_genres  = get_movie_label(movies_recommended_by_model.index)\n",
    "        for predicted_genre in predicted_genres:\n",
    "            global true_count, false_count\n",
    "            if predicted_genre == colums[\"genres\"]:\n",
    "                true_count = true_count+1\n",
    "            else:\n",
    "                false_count = false_count +1\n",
    "                \n",
    "evaluate_content_based_model()\n",
    "total = true_count + false_count\n",
    "print(\"Hit:\"+ str(true_count/total))\n",
    "print(\"Fault:\" + str(false_count/total))"
   ]
  },
  {
   "cell_type": "markdown",
   "id": "7030a22c",
   "metadata": {},
   "source": [
    "### MODEL 2 - API 2\n",
    "\n",
    "### **Content based filtering–** \n",
    "**Recommending movies based on previous watch history of a user based on genres of previous movies**"
   ]
  },
  {
   "cell_type": "code",
   "execution_count": 13,
   "id": "64be53ff",
   "metadata": {},
   "outputs": [],
   "source": [
    "def get_recommendation_content_model(userId):\n",
    "    recommended_movie_list = []\n",
    "    movie_list = []\n",
    "    df_rating_filtered = df_ratings[df_ratings[\"userId\"]== userId]\n",
    "    for key, row in df_rating_filtered.iterrows():\n",
    "        movie_list.append((df_movies[\"title\"][row[\"movieId\"]==df_movies[\"movieId\"]]).values) \n",
    "    for index, movie in enumerate(movie_list):\n",
    "        for key, movie_recommended in get_recommendations_based_on_genres(movie[0]).iteritems():\n",
    "            recommended_movie_list.append(movie_recommended) \n",
    "    for movie_title in recommended_movie_list:\n",
    "        if movie_title in movie_list:\n",
    "            recommended_movie_list.remove(movie_title)\n",
    "    \n",
    "    return set(recommended_movie_list)"
   ]
  },
  {
   "cell_type": "code",
   "execution_count": 14,
   "id": "f064a43c",
   "metadata": {
    "scrolled": true
   },
   "outputs": [
    {
     "data": {
      "text/plain": [
       "{'300: Rise of an Empire (2014)',\n",
       " 'Ace Ventura: When Nature Calls (1995)',\n",
       " 'Adventures in Babysitting (1987)',\n",
       " 'Aladdin and the King of Thieves (1996)',\n",
       " 'Alice in Wonderland (2010)',\n",
       " 'Along Came a Spider (2001)',\n",
       " 'American President, The (1995)',\n",
       " \"Antonia's Line (Antonia) (1995)\",\n",
       " 'Around the World in 80 Days (1956)',\n",
       " 'Assassins (1995)',\n",
       " 'Asterix and Cleopatra (Astérix et Cléopâtre) (1968)',\n",
       " 'Babes in Toyland (1934)',\n",
       " 'Batman Forever (1995)',\n",
       " 'Beauty and the Beast (1991)',\n",
       " 'Before the Rain (Pred dozhdot) (1994)',\n",
       " 'Ben-Hur (1959)',\n",
       " 'Beowulf & Grendel (2005)',\n",
       " 'Big Bully (1996)',\n",
       " 'Blood and Chocolate (2007)',\n",
       " 'Bolt (2008)',\n",
       " 'Broken Arrow (1996)',\n",
       " \"Bug's Life, A (1998)\",\n",
       " 'Captain Horatio Hornblower R.N. (1951)',\n",
       " 'Clear and Present Danger (1994)',\n",
       " 'Cliffhanger (1993)',\n",
       " 'Cloud Atlas (2012)',\n",
       " 'Clueless (1995)',\n",
       " 'Corpse Bride (2005)',\n",
       " 'Dangerous Minds (1995)',\n",
       " 'Dark Knight, The (2008)',\n",
       " 'Die Hard: With a Vengeance (1995)',\n",
       " \"Dracula (Bram Stoker's Dracula) (1992)\",\n",
       " 'Dragon Ball: Mystical Adventure (Doragon bôru: Makafushigi dai bôken) (1988)',\n",
       " \"Dragon Ball: Sleeping Princess in Devil's Castle (Doragon bôru: Majinjô no nemuri hime) (1987)\",\n",
       " 'Elektra (2005)',\n",
       " 'Emerald Green (2016)',\n",
       " 'Excalibur (1981)',\n",
       " 'Family Guy Presents Stewie Griffin: The Untold Story (2005)',\n",
       " 'Fantasia 2000 (1999)',\n",
       " 'Fantastic Mr. Fox (2009)',\n",
       " 'Fargo (1996)',\n",
       " 'Four Rooms (1995)',\n",
       " 'Freeway (1996)',\n",
       " 'Gay Divorcee, The (1934)',\n",
       " 'Ghost (1990)',\n",
       " 'Ghost and Mrs. Muir, The (1947)',\n",
       " 'Gnomeo & Juliet (2011)',\n",
       " 'Grandmaster, The (Yi dai zong shi) (2013)',\n",
       " 'Guns of Navarone, The (1961)',\n",
       " 'Harry Potter and the Deathly Hallows: Part 2 (2011)',\n",
       " 'Harry Potter and the Goblet of Fire (2005)',\n",
       " 'Harry Potter and the Order of the Phoenix (2007)',\n",
       " 'Hercules (1997)',\n",
       " 'Hobbit: An Unexpected Journey, The (2012)',\n",
       " \"It's a Mad, Mad, Mad, Mad World (1963)\",\n",
       " 'Jack Ryan: Shadow Recruit (2014)',\n",
       " 'Jewel of the Nile, The (1985)',\n",
       " 'Jimmy Hollywood (1994)',\n",
       " 'Jimmy Neutron: Boy Genius (2001)',\n",
       " 'Johnny Mnemonic (1995)',\n",
       " 'Journey to the West: Conquering the Demons (Daai wa sai you chi Chui mo chun kei) (2013)',\n",
       " 'Kung Fu Panda (2008)',\n",
       " 'Kung Fu Panda: Secrets of the Furious Five (2008)',\n",
       " 'Leaving Las Vegas (1995)',\n",
       " 'Let Me In (2010)',\n",
       " 'Life Is Beautiful (La Vita è bella) (1997)',\n",
       " 'Like Water for Chocolate (Como agua para chocolate) (1992)',\n",
       " \"Lion King II: Simba's Pride, The (1998)\",\n",
       " 'Léon: The Professional (a.k.a. The Professional) (Léon) (1994)',\n",
       " 'Man in the Iron Mask, The (1998)',\n",
       " 'Mighty Aphrodite (1995)',\n",
       " 'Mission: Impossible - Ghost Protocol (2011)',\n",
       " 'Misérables, Les (1995)',\n",
       " 'Need for Speed (2014)',\n",
       " 'Noah (2014)',\n",
       " 'Normal Life (1996)',\n",
       " 'Oliver & Company (1988)',\n",
       " 'Open Season (2006)',\n",
       " 'Orlando (1992)',\n",
       " 'Othello (1995)',\n",
       " 'Persuasion (1995)',\n",
       " 'Powerpuff Girls, The (2002)',\n",
       " 'Puss in Boots (Nagagutsu o haita neko) (1969)',\n",
       " 'Romancing the Stone (1984)',\n",
       " 'Sabrina (1995)',\n",
       " 'Screamers (1995)',\n",
       " 'Seeker: The Dark Is Rising, The (2007)',\n",
       " 'Shrek 2 (2004)',\n",
       " 'Sinbad and the Eye of the Tiger (1977)',\n",
       " 'Stalingrad (2013)',\n",
       " 'Sucker Punch (2011)',\n",
       " 'Superman Returns (2006)',\n",
       " 'Tarzan (1999)',\n",
       " 'Tie Me Up! Tie Me Down! (¡Átame!) (1990)',\n",
       " 'Top Hat (1935)',\n",
       " 'Train of Life (Train de vie) (1998)',\n",
       " 'Trainspotting (1996)',\n",
       " 'Transcendence (2014)',\n",
       " 'West Side Story (1961)',\n",
       " 'What Lies Beneath (2000)',\n",
       " 'Willy Wonka & the Chocolate Factory (1971)',\n",
       " 'Yellow Submarine (1968)'}"
      ]
     },
     "execution_count": 14,
     "metadata": {},
     "output_type": "execute_result"
    }
   ],
   "source": [
    "get_recommendation_content_model(10)"
   ]
  },
  {
   "cell_type": "code",
   "execution_count": 15,
   "id": "dbffce2c",
   "metadata": {},
   "outputs": [
    {
     "name": "stdout",
     "output_type": "stream",
     "text": [
      "Requirement already satisfied: recmetrics in c:\\users\\prati\\anaconda3\\lib\\site-packages (0.1.5)Note: you may need to restart the kernel to use updated packages.\n",
      "\n",
      "Requirement already satisfied: twine<5.0.0,>=4.0.0 in c:\\users\\prati\\anaconda3\\lib\\site-packages (from recmetrics) (4.0.0)\n",
      "Requirement already satisfied: jupyter<2.0.0,>=1.0.0 in c:\\users\\prati\\anaconda3\\lib\\site-packages (from recmetrics) (1.0.0)\n",
      "Requirement already satisfied: ipython<8.0.0,>=7.18.1 in c:\\users\\prati\\anaconda3\\lib\\site-packages (from recmetrics) (7.22.0)\n",
      "Requirement already satisfied: matplotlib<4.0.0,>=3.3.2 in c:\\users\\prati\\anaconda3\\lib\\site-packages (from recmetrics) (3.3.4)\n",
      "Requirement already satisfied: scipy<2.0.0,>=1.5.2 in c:\\users\\prati\\anaconda3\\lib\\site-packages (from recmetrics) (1.7.3)\n",
      "Requirement already satisfied: scikit-learn<2.0.0,>=1.0.2 in c:\\users\\prati\\anaconda3\\lib\\site-packages (from recmetrics) (1.1.1)\n",
      "Requirement already satisfied: seaborn<0.12.0,>=0.11.0 in c:\\users\\prati\\anaconda3\\lib\\site-packages (from recmetrics) (0.11.1)\n",
      "Requirement already satisfied: pytest-cov<3.0.0,>=2.10.1 in c:\\users\\prati\\anaconda3\\lib\\site-packages (from recmetrics) (2.12.1)\n",
      "Requirement already satisfied: pandas<2.0.0,>=1.1.3 in c:\\users\\prati\\anaconda3\\lib\\site-packages (from recmetrics) (1.2.4)\n",
      "Requirement already satisfied: plotly<5.0.0,>=4.11.0 in c:\\users\\prati\\anaconda3\\lib\\site-packages (from recmetrics) (4.14.3)\n",
      "Requirement already satisfied: funcsigs<2.0.0,>=1.0.2 in c:\\users\\prati\\anaconda3\\lib\\site-packages (from recmetrics) (1.0.2)\n",
      "Requirement already satisfied: jedi>=0.16 in c:\\users\\prati\\anaconda3\\lib\\site-packages (from ipython<8.0.0,>=7.18.1->recmetrics) (0.17.2)\n",
      "Requirement already satisfied: decorator in c:\\users\\prati\\anaconda3\\lib\\site-packages (from ipython<8.0.0,>=7.18.1->recmetrics) (5.0.6)\n",
      "Requirement already satisfied: pygments in c:\\users\\prati\\anaconda3\\lib\\site-packages (from ipython<8.0.0,>=7.18.1->recmetrics) (2.8.1)\n",
      "Requirement already satisfied: pickleshare in c:\\users\\prati\\anaconda3\\lib\\site-packages (from ipython<8.0.0,>=7.18.1->recmetrics) (0.7.5)\n",
      "Requirement already satisfied: setuptools>=18.5 in c:\\users\\prati\\anaconda3\\lib\\site-packages (from ipython<8.0.0,>=7.18.1->recmetrics) (52.0.0.post20210125)\n",
      "Requirement already satisfied: prompt-toolkit!=3.0.0,!=3.0.1,<3.1.0,>=2.0.0 in c:\\users\\prati\\anaconda3\\lib\\site-packages (from ipython<8.0.0,>=7.18.1->recmetrics) (3.0.17)\n",
      "Requirement already satisfied: colorama in c:\\users\\prati\\anaconda3\\lib\\site-packages (from ipython<8.0.0,>=7.18.1->recmetrics) (0.4.4)\n",
      "Requirement already satisfied: traitlets>=4.2 in c:\\users\\prati\\anaconda3\\lib\\site-packages (from ipython<8.0.0,>=7.18.1->recmetrics) (5.0.5)\n",
      "Requirement already satisfied: backcall in c:\\users\\prati\\anaconda3\\lib\\site-packages (from ipython<8.0.0,>=7.18.1->recmetrics) (0.2.0)\n",
      "Requirement already satisfied: parso<0.8.0,>=0.7.0 in c:\\users\\prati\\anaconda3\\lib\\site-packages (from jedi>=0.16->ipython<8.0.0,>=7.18.1->recmetrics) (0.7.0)\n",
      "Requirement already satisfied: jupyter-console in c:\\users\\prati\\anaconda3\\lib\\site-packages (from jupyter<2.0.0,>=1.0.0->recmetrics) (6.4.0)\n",
      "Requirement already satisfied: ipywidgets in c:\\users\\prati\\anaconda3\\lib\\site-packages (from jupyter<2.0.0,>=1.0.0->recmetrics) (7.6.3)\n",
      "Requirement already satisfied: ipykernel in c:\\users\\prati\\anaconda3\\lib\\site-packages (from jupyter<2.0.0,>=1.0.0->recmetrics) (5.3.4)\n",
      "Requirement already satisfied: qtconsole in c:\\users\\prati\\anaconda3\\lib\\site-packages (from jupyter<2.0.0,>=1.0.0->recmetrics) (5.0.3)\n",
      "Requirement already satisfied: notebook in c:\\users\\prati\\anaconda3\\lib\\site-packages (from jupyter<2.0.0,>=1.0.0->recmetrics) (6.3.0)\n",
      "Requirement already satisfied: nbconvert in c:\\users\\prati\\anaconda3\\lib\\site-packages (from jupyter<2.0.0,>=1.0.0->recmetrics) (6.0.7)\n",
      "Requirement already satisfied: pillow>=6.2.0 in c:\\users\\prati\\anaconda3\\lib\\site-packages (from matplotlib<4.0.0,>=3.3.2->recmetrics) (8.2.0)\n",
      "Requirement already satisfied: numpy>=1.15 in c:\\users\\prati\\anaconda3\\lib\\site-packages (from matplotlib<4.0.0,>=3.3.2->recmetrics) (1.21.2)\n",
      "Requirement already satisfied: pyparsing!=2.0.4,!=2.1.2,!=2.1.6,>=2.0.3 in c:\\users\\prati\\anaconda3\\lib\\site-packages (from matplotlib<4.0.0,>=3.3.2->recmetrics) (2.4.7)\n",
      "Requirement already satisfied: python-dateutil>=2.1 in c:\\users\\prati\\anaconda3\\lib\\site-packages (from matplotlib<4.0.0,>=3.3.2->recmetrics) (2.8.1)\n",
      "Requirement already satisfied: cycler>=0.10 in c:\\users\\prati\\anaconda3\\lib\\site-packages (from matplotlib<4.0.0,>=3.3.2->recmetrics) (0.10.0)\n",
      "Requirement already satisfied: kiwisolver>=1.0.1 in c:\\users\\prati\\anaconda3\\lib\\site-packages (from matplotlib<4.0.0,>=3.3.2->recmetrics) (1.3.1)\n",
      "Requirement already satisfied: six in c:\\users\\prati\\anaconda3\\lib\\site-packages (from cycler>=0.10->matplotlib<4.0.0,>=3.3.2->recmetrics) (1.15.0)\n",
      "Requirement already satisfied: pytz>=2017.3 in c:\\users\\prati\\anaconda3\\lib\\site-packages (from pandas<2.0.0,>=1.1.3->recmetrics) (2022.1)\n",
      "Requirement already satisfied: retrying>=1.3.3 in c:\\users\\prati\\anaconda3\\lib\\site-packages (from plotly<5.0.0,>=4.11.0->recmetrics) (1.3.3)\n",
      "Requirement already satisfied: wcwidth in c:\\users\\prati\\anaconda3\\lib\\site-packages (from prompt-toolkit!=3.0.0,!=3.0.1,<3.1.0,>=2.0.0->ipython<8.0.0,>=7.18.1->recmetrics) (0.2.5)\n",
      "Requirement already satisfied: pytest>=4.6 in c:\\users\\prati\\anaconda3\\lib\\site-packages (from pytest-cov<3.0.0,>=2.10.1->recmetrics) (6.2.3)\n",
      "Requirement already satisfied: toml in c:\\users\\prati\\anaconda3\\lib\\site-packages (from pytest-cov<3.0.0,>=2.10.1->recmetrics) (0.10.2)\n",
      "Requirement already satisfied: coverage>=5.2.1 in c:\\users\\prati\\anaconda3\\lib\\site-packages (from pytest-cov<3.0.0,>=2.10.1->recmetrics) (6.4)\n",
      "Requirement already satisfied: attrs>=19.2.0 in c:\\users\\prati\\anaconda3\\lib\\site-packages (from pytest>=4.6->pytest-cov<3.0.0,>=2.10.1->recmetrics) (20.3.0)\n",
      "Requirement already satisfied: iniconfig in c:\\users\\prati\\anaconda3\\lib\\site-packages (from pytest>=4.6->pytest-cov<3.0.0,>=2.10.1->recmetrics) (1.1.1)\n",
      "Requirement already satisfied: packaging in c:\\users\\prati\\anaconda3\\lib\\site-packages (from pytest>=4.6->pytest-cov<3.0.0,>=2.10.1->recmetrics) (20.9)\n",
      "Requirement already satisfied: pluggy<1.0.0a1,>=0.12 in c:\\users\\prati\\anaconda3\\lib\\site-packages (from pytest>=4.6->pytest-cov<3.0.0,>=2.10.1->recmetrics) (0.13.1)\n",
      "Requirement already satisfied: py>=1.8.2 in c:\\users\\prati\\anaconda3\\lib\\site-packages (from pytest>=4.6->pytest-cov<3.0.0,>=2.10.1->recmetrics) (1.10.0)\n",
      "Requirement already satisfied: atomicwrites>=1.0 in c:\\users\\prati\\anaconda3\\lib\\site-packages (from pytest>=4.6->pytest-cov<3.0.0,>=2.10.1->recmetrics) (1.4.0)\n",
      "Requirement already satisfied: joblib>=1.0.0 in c:\\users\\prati\\anaconda3\\lib\\site-packages (from scikit-learn<2.0.0,>=1.0.2->recmetrics) (1.0.1)\n",
      "Requirement already satisfied: threadpoolctl>=2.0.0 in c:\\users\\prati\\anaconda3\\lib\\site-packages (from scikit-learn<2.0.0,>=1.0.2->recmetrics) (3.1.0)\n",
      "Requirement already satisfied: ipython-genutils in c:\\users\\prati\\anaconda3\\lib\\site-packages (from traitlets>=4.2->ipython<8.0.0,>=7.18.1->recmetrics) (0.2.0)\n",
      "Requirement already satisfied: pkginfo>=1.8.1 in c:\\users\\prati\\anaconda3\\lib\\site-packages (from twine<5.0.0,>=4.0.0->recmetrics) (1.8.2)\n",
      "Requirement already satisfied: rfc3986>=1.4.0 in c:\\users\\prati\\anaconda3\\lib\\site-packages (from twine<5.0.0,>=4.0.0->recmetrics) (1.5.0)\n",
      "Requirement already satisfied: rich>=12.0.0 in c:\\users\\prati\\anaconda3\\lib\\site-packages (from twine<5.0.0,>=4.0.0->recmetrics) (12.4.4)\n",
      "Requirement already satisfied: importlib-metadata>=3.6 in c:\\users\\prati\\anaconda3\\lib\\site-packages (from twine<5.0.0,>=4.0.0->recmetrics) (3.10.0)\n",
      "Requirement already satisfied: readme-renderer>=21.0 in c:\\users\\prati\\anaconda3\\lib\\site-packages (from twine<5.0.0,>=4.0.0->recmetrics) (35.0)\n",
      "Requirement already satisfied: requests>=2.20 in c:\\users\\prati\\anaconda3\\lib\\site-packages (from twine<5.0.0,>=4.0.0->recmetrics) (2.25.1)\n",
      "Requirement already satisfied: requests-toolbelt!=0.9.0,>=0.8.0 in c:\\users\\prati\\anaconda3\\lib\\site-packages (from twine<5.0.0,>=4.0.0->recmetrics) (0.9.1)\n",
      "Requirement already satisfied: keyring>=15.1 in c:\\users\\prati\\anaconda3\\lib\\site-packages (from twine<5.0.0,>=4.0.0->recmetrics) (22.3.0)\n",
      "Requirement already satisfied: urllib3>=1.26.0 in c:\\users\\prati\\anaconda3\\lib\\site-packages (from twine<5.0.0,>=4.0.0->recmetrics) (1.26.9)\n",
      "Requirement already satisfied: zipp>=0.5 in c:\\users\\prati\\anaconda3\\lib\\site-packages (from importlib-metadata>=3.6->twine<5.0.0,>=4.0.0->recmetrics) (3.4.1)\n",
      "Requirement already satisfied: pywin32-ctypes!=0.1.0,!=0.1.1 in c:\\users\\prati\\anaconda3\\lib\\site-packages (from keyring>=15.1->twine<5.0.0,>=4.0.0->recmetrics) (0.2.0)\n",
      "Requirement already satisfied: docutils>=0.13.1 in c:\\users\\prati\\anaconda3\\lib\\site-packages (from readme-renderer>=21.0->twine<5.0.0,>=4.0.0->recmetrics) (0.17)\n",
      "Requirement already satisfied: bleach>=2.1.0 in c:\\users\\prati\\anaconda3\\lib\\site-packages (from readme-renderer>=21.0->twine<5.0.0,>=4.0.0->recmetrics) (3.3.0)\n",
      "Requirement already satisfied: webencodings in c:\\users\\prati\\anaconda3\\lib\\site-packages (from bleach>=2.1.0->readme-renderer>=21.0->twine<5.0.0,>=4.0.0->recmetrics) (0.5.1)\n",
      "Requirement already satisfied: certifi>=2017.4.17 in c:\\users\\prati\\anaconda3\\lib\\site-packages (from requests>=2.20->twine<5.0.0,>=4.0.0->recmetrics) (2021.10.8)\n",
      "Requirement already satisfied: idna<3,>=2.5 in c:\\users\\prati\\anaconda3\\lib\\site-packages (from requests>=2.20->twine<5.0.0,>=4.0.0->recmetrics) (2.10)\n",
      "Requirement already satisfied: chardet<5,>=3.0.2 in c:\\users\\prati\\anaconda3\\lib\\site-packages (from requests>=2.20->twine<5.0.0,>=4.0.0->recmetrics) (4.0.0)\n",
      "Requirement already satisfied: commonmark<0.10.0,>=0.9.0 in c:\\users\\prati\\anaconda3\\lib\\site-packages (from rich>=12.0.0->twine<5.0.0,>=4.0.0->recmetrics) (0.9.1)\n",
      "Requirement already satisfied: typing-extensions<5.0,>=4.0.0 in c:\\users\\prati\\anaconda3\\lib\\site-packages (from rich>=12.0.0->twine<5.0.0,>=4.0.0->recmetrics) (4.2.0)\n",
      "Requirement already satisfied: jupyter-client in c:\\users\\prati\\anaconda3\\lib\\site-packages (from ipykernel->jupyter<2.0.0,>=1.0.0->recmetrics) (6.1.12)\n",
      "Requirement already satisfied: tornado>=4.2 in c:\\users\\prati\\anaconda3\\lib\\site-packages (from ipykernel->jupyter<2.0.0,>=1.0.0->recmetrics) (6.1)\n",
      "Requirement already satisfied: nbformat>=4.2.0 in c:\\users\\prati\\anaconda3\\lib\\site-packages (from ipywidgets->jupyter<2.0.0,>=1.0.0->recmetrics) (5.1.3)\n",
      "Requirement already satisfied: widgetsnbextension~=3.5.0 in c:\\users\\prati\\anaconda3\\lib\\site-packages (from ipywidgets->jupyter<2.0.0,>=1.0.0->recmetrics) (3.5.1)\n",
      "Requirement already satisfied: jupyterlab-widgets>=1.0.0 in c:\\users\\prati\\anaconda3\\lib\\site-packages (from ipywidgets->jupyter<2.0.0,>=1.0.0->recmetrics) (1.0.0)\n",
      "Requirement already satisfied: jsonschema!=2.5.0,>=2.4 in c:\\users\\prati\\anaconda3\\lib\\site-packages (from nbformat>=4.2.0->ipywidgets->jupyter<2.0.0,>=1.0.0->recmetrics) (3.2.0)\n",
      "Requirement already satisfied: jupyter-core in c:\\users\\prati\\anaconda3\\lib\\site-packages (from nbformat>=4.2.0->ipywidgets->jupyter<2.0.0,>=1.0.0->recmetrics) (4.7.1)\n",
      "Requirement already satisfied: pyrsistent>=0.14.0 in c:\\users\\prati\\anaconda3\\lib\\site-packages (from jsonschema!=2.5.0,>=2.4->nbformat>=4.2.0->ipywidgets->jupyter<2.0.0,>=1.0.0->recmetrics) (0.17.3)\n",
      "Requirement already satisfied: jinja2 in c:\\users\\prati\\anaconda3\\lib\\site-packages (from notebook->jupyter<2.0.0,>=1.0.0->recmetrics) (3.0.3)\n",
      "Requirement already satisfied: Send2Trash>=1.5.0 in c:\\users\\prati\\anaconda3\\lib\\site-packages (from notebook->jupyter<2.0.0,>=1.0.0->recmetrics) (1.5.0)\n",
      "Requirement already satisfied: terminado>=0.8.3 in c:\\users\\prati\\anaconda3\\lib\\site-packages (from notebook->jupyter<2.0.0,>=1.0.0->recmetrics) (0.9.4)\n"
     ]
    }
   ],
   "source": [
    "pip install recmetrics\n"
   ]
  },
  {
   "cell_type": "markdown",
   "id": "844518f9",
   "metadata": {},
   "source": [
    "### MODEL 3 - API 3\n",
    "\n",
    "### **Collaborative Filtering-**\n",
    "\n",
    "**Item-Item Filtering – Given user-id Recommends Movies which isn’t seen by user based on ratings of user towards a movie he had seen**"
   ]
  },
  {
   "cell_type": "code",
   "execution_count": 16,
   "id": "075c3f33",
   "metadata": {},
   "outputs": [
    {
     "name": "stdout",
     "output_type": "stream",
     "text": [
      "Requirement already satisfied: prometheus-client in c:\\users\\prati\\anaconda3\\lib\\site-packages (from notebook->jupyter<2.0.0,>=1.0.0->recmetrics) (0.10.1)\n",
      "Requirement already satisfied: pyzmq>=17 in c:\\users\\prati\\anaconda3\\lib\\site-packages (from notebook->jupyter<2.0.0,>=1.0.0->recmetrics) (22.3.0)\n",
      "Requirement already satisfied: argon2-cffi in c:\\users\\prati\\anaconda3\\lib\\site-packages (from notebook->jupyter<2.0.0,>=1.0.0->recmetrics) (20.1.0)\n",
      "Requirement already satisfied: pywin32>=1.0 in c:\\users\\prati\\anaconda3\\lib\\site-packages (from jupyter-core->nbformat>=4.2.0->ipywidgets->jupyter<2.0.0,>=1.0.0->recmetrics) (227)\n",
      "Requirement already satisfied: pywinpty>=0.5 in c:\\users\\prati\\anaconda3\\lib\\site-packages (from terminado>=0.8.3->notebook->jupyter<2.0.0,>=1.0.0->recmetrics) (0.5.7)\n",
      "Requirement already satisfied: cffi>=1.0.0 in c:\\users\\prati\\anaconda3\\lib\\site-packages (from argon2-cffi->notebook->jupyter<2.0.0,>=1.0.0->recmetrics) (1.14.5)\n",
      "Requirement already satisfied: pycparser in c:\\users\\prati\\anaconda3\\lib\\site-packages (from cffi>=1.0.0->argon2-cffi->notebook->jupyter<2.0.0,>=1.0.0->recmetrics) (2.20)\n",
      "Requirement already satisfied: MarkupSafe>=2.0 in c:\\users\\prati\\anaconda3\\lib\\site-packages (from jinja2->notebook->jupyter<2.0.0,>=1.0.0->recmetrics) (2.1.1)\n",
      "Requirement already satisfied: jupyterlab-pygments in c:\\users\\prati\\anaconda3\\lib\\site-packages (from nbconvert->jupyter<2.0.0,>=1.0.0->recmetrics) (0.1.2)\n",
      "Requirement already satisfied: nbclient<0.6.0,>=0.5.0 in c:\\users\\prati\\anaconda3\\lib\\site-packages (from nbconvert->jupyter<2.0.0,>=1.0.0->recmetrics) (0.5.3)\n",
      "Requirement already satisfied: pandocfilters>=1.4.1 in c:\\users\\prati\\anaconda3\\lib\\site-packages (from nbconvert->jupyter<2.0.0,>=1.0.0->recmetrics) (1.4.3)\n",
      "Requirement already satisfied: entrypoints>=0.2.2 in c:\\users\\prati\\anaconda3\\lib\\site-packages (from nbconvert->jupyter<2.0.0,>=1.0.0->recmetrics) (0.3)\n",
      "Requirement already satisfied: testpath in c:\\users\\prati\\anaconda3\\lib\\site-packages (from nbconvert->jupyter<2.0.0,>=1.0.0->recmetrics) (0.4.4)\n",
      "Requirement already satisfied: defusedxml in c:\\users\\prati\\anaconda3\\lib\\site-packages (from nbconvert->jupyter<2.0.0,>=1.0.0->recmetrics) (0.7.1)\n",
      "Requirement already satisfied: mistune<2,>=0.8.1 in c:\\users\\prati\\anaconda3\\lib\\site-packages (from nbconvert->jupyter<2.0.0,>=1.0.0->recmetrics) (0.8.4)\n",
      "Requirement already satisfied: async-generator in c:\\users\\prati\\anaconda3\\lib\\site-packages (from nbclient<0.6.0,>=0.5.0->nbconvert->jupyter<2.0.0,>=1.0.0->recmetrics) (1.10)\n",
      "Requirement already satisfied: nest-asyncio in c:\\users\\prati\\anaconda3\\lib\\site-packages (from nbclient<0.6.0,>=0.5.0->nbconvert->jupyter<2.0.0,>=1.0.0->recmetrics) (1.5.1)\n",
      "Requirement already satisfied: qtpy in c:\\users\\prati\\anaconda3\\lib\\site-packages (from qtconsole->jupyter<2.0.0,>=1.0.0->recmetrics) (1.9.0)\n"
     ]
    }
   ],
   "source": [
    "from sklearn.metrics import pairwise_distances\n",
    "from scipy.spatial.distance import cosine, correlation"
   ]
  },
  {
   "cell_type": "code",
   "execution_count": 17,
   "id": "61487140",
   "metadata": {},
   "outputs": [],
   "source": [
    "df_movies_ratings=pd.merge(df_movies, df_ratings)\n",
    "\n",
    "ratings_matrix_items = df_movies_ratings.pivot_table(index=['movieId'],columns=['userId'],values='rating').reset_index(drop=True)\n",
    "ratings_matrix_items.fillna( 0, inplace = True )\n",
    "\n",
    "movie_similarity = 1 - pairwise_distances( ratings_matrix_items.values, metric=\"cosine\" )\n",
    "np.fill_diagonal( movie_similarity, 0 ) #Filling diagonals with 0s for future use when sorting is done\n",
    "\n",
    "ratings_matrix_items = pd.DataFrame( movie_similarity )"
   ]
  },
  {
   "cell_type": "code",
   "execution_count": 18,
   "id": "01084429",
   "metadata": {},
   "outputs": [],
   "source": [
    "def item_similarity(movieName): \n",
    "    try:\n",
    "        user_inp=movieName\n",
    "        inp=df_movies[df_movies['title']==user_inp].index.tolist()\n",
    "        inp=inp[0]\n",
    "        df_movies['similarity'] = ratings_matrix_items.iloc[inp]\n",
    "        df_movies.columns = ['movie_id', 'title', 'release_date','similarity']\n",
    "    except:\n",
    "        print(\"Sorry, the movie is not in the database!\")\n",
    "\n",
    "def recommendedMoviesAsperItemSimilarity(user_id):\n",
    "    user_movie= df_movies_ratings[(df_movies_ratings.userId==user_id) & df_movies_ratings.rating.isin([5,3])][['title']]\n",
    "    user_movie=user_movie.iloc[0,0]\n",
    "    item_similarity(user_movie)\n",
    "    sorted_movies_as_per_userChoice=df_movies.sort_values( [\"similarity\"], ascending = False )\n",
    "    sorted_movies_as_per_userChoice=sorted_movies_as_per_userChoice[sorted_movies_as_per_userChoice['similarity'] >=0.35]['movie_id']\n",
    "    recommended_movies=list()\n",
    "    df_recommended_item=pd.DataFrame()\n",
    "    user2Movies= df_ratings[df_ratings['userId']== user_id]['movieId']\n",
    "    for movieId in sorted_movies_as_per_userChoice:\n",
    "            if movieId not in user2Movies:\n",
    "                df_new= df_ratings[(df_ratings.movieId==movieId)]\n",
    "                df_recommended_item=pd.concat([df_recommended_item,df_new])\n",
    "            best10=df_recommended_item.sort_values([\"rating\"], ascending = False )[1:10] \n",
    "    return best10['movieId']\n",
    "\n",
    "def movieIdToTitle(listMovieIDs):\n",
    "    movie_titles= list()\n",
    "    for id in listMovieIDs:\n",
    "        movie_titles.append(df_movies[df_movies['movie_id']==id]['title'])\n",
    "    return movie_titles"
   ]
  },
  {
   "cell_type": "code",
   "execution_count": 19,
   "id": "14f81e87",
   "metadata": {},
   "outputs": [
    {
     "name": "stdout",
     "output_type": "stream",
     "text": [
      "Recommended movies,:\n",
      " [277    Shawshank Redemption, The (1994)\n",
      "Name: title, dtype: object, 505    Ghost (1990)\n",
      "Name: title, dtype: object, 505    Ghost (1990)\n",
      "Name: title, dtype: object, 512    Beauty and the Beast (1991)\n",
      "Name: title, dtype: object, 505    Ghost (1990)\n",
      "Name: title, dtype: object, 512    Beauty and the Beast (1991)\n",
      "Name: title, dtype: object, 512    Beauty and the Beast (1991)\n",
      "Name: title, dtype: object, 512    Beauty and the Beast (1991)\n",
      "Name: title, dtype: object, 505    Ghost (1990)\n",
      "Name: title, dtype: object]\n"
     ]
    }
   ],
   "source": [
    "user_id=50\n",
    "print(\"Recommended movies,:\\n\",movieIdToTitle(recommendedMoviesAsperItemSimilarity(user_id)))"
   ]
  },
  {
   "cell_type": "markdown",
   "id": "3c3cc407",
   "metadata": {},
   "source": [
    "### MODEL 4 - API 4\n",
    "\n",
    "### **Collaborative Filtering-**\n",
    "**User-Item Filtering – Given user-id in database tries to find user most similar and then recommends what that user has seen but our user hasn’t**"
   ]
  },
  {
   "cell_type": "code",
   "execution_count": 20,
   "id": "876fd368",
   "metadata": {},
   "outputs": [],
   "source": [
    "ratings_matrix_users = df_movies_ratings.pivot_table(index=['userId'],columns=['movieId'],values='rating').reset_index(drop=True)\n",
    "ratings_matrix_users.fillna( 0, inplace = True )\n",
    "movie_similarity = 1 - pairwise_distances( ratings_matrix_users.values, metric=\"cosine\" )\n",
    "np.fill_diagonal( movie_similarity, 0 )\n",
    "ratings_matrix_users = pd.DataFrame( movie_similarity )\n",
    "similar_user_series= ratings_matrix_users.idxmax(axis=1)\n",
    "df_similar_user= similar_user_series.to_frame()"
   ]
  },
  {
   "cell_type": "code",
   "execution_count": 21,
   "id": "60e631d6",
   "metadata": {},
   "outputs": [],
   "source": [
    "movieId_recommended=list()\n",
    "def getRecommendedMoviesAsperUserSimilarity(userId):\n",
    "    \"\"\"\n",
    "     Recommending movies which user hasn't watched as per User Similarity\n",
    "    :param user_id: user_id to whom movie needs to be recommended\n",
    "    :return: movieIds to user \n",
    "    \"\"\"\n",
    "    user2Movies= df_ratings[df_ratings['userId']== userId]['movieId']\n",
    "    sim_user=df_similar_user.iloc[0,0]\n",
    "    df_recommended=pd.DataFrame(columns=['movieId','title','genres','userId','rating','timestamp'])\n",
    "    for movieId in df_ratings[df_ratings['userId']== sim_user]['movieId']:\n",
    "        if movieId not in user2Movies:\n",
    "            df_new= df_movies_ratings[(df_movies_ratings.userId==sim_user) & (df_movies_ratings.movieId==movieId)]\n",
    "            df_recommended=pd.concat([df_recommended,df_new])\n",
    "        best10=df_recommended.sort_values(['rating'], ascending = False )[1:10]  \n",
    "    return best10['movieId']"
   ]
  },
  {
   "cell_type": "code",
   "execution_count": 22,
   "id": "04c172ed",
   "metadata": {
    "scrolled": true
   },
   "outputs": [
    {
     "name": "stdout",
     "output_type": "stream",
     "text": [
      "Movies you should watch are:\n",
      "\n",
      "[1431    Rocky (1976)\n",
      "Name: title, dtype: object, 742    African Queen, The (1951)\n",
      "Name: title, dtype: object, 733    It's a Wonderful Life (1946)\n",
      "Name: title, dtype: object, 939    Terminator, The (1984)\n",
      "Name: title, dtype: object, 969    Back to the Future (1985)\n",
      "Name: title, dtype: object, 510    Silence of the Lambs, The (1991)\n",
      "Name: title, dtype: object, 1057    Star Trek II: The Wrath of Khan (1982)\n",
      "Name: title, dtype: object, 1059    Star Trek IV: The Voyage Home (1986)\n",
      "Name: title, dtype: object, 1939    Matrix, The (1999)\n",
      "Name: title, dtype: object]\n"
     ]
    }
   ],
   "source": [
    "user_id=50\n",
    "recommend_movies= movieIdToTitle(getRecommendedMoviesAsperUserSimilarity(user_id))\n",
    "print(\"Movies you should watch are:\\n\")\n",
    "print(recommend_movies)"
   ]
  }
 ],
 "metadata": {
  "colab": {
   "collapsed_sections": [],
   "name": "200968216_MLProject_Submission_1.ipynb",
   "provenance": [],
   "toc_visible": true
  },
  "kernelspec": {
   "display_name": "Python 3 (ipykernel)",
   "language": "python",
   "name": "python3"
  },
  "language_info": {
   "codemirror_mode": {
    "name": "ipython",
    "version": 3
   },
   "file_extension": ".py",
   "mimetype": "text/x-python",
   "name": "python",
   "nbconvert_exporter": "python",
   "pygments_lexer": "ipython3",
   "version": "3.7.12"
  }
 },
 "nbformat": 4,
 "nbformat_minor": 5
}
