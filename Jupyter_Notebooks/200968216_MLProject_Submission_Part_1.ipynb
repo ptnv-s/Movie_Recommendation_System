{
 "cells": [
  {
   "cell_type": "markdown",
   "id": "SuGPuyIUSlcG",
   "metadata": {
    "id": "SuGPuyIUSlcG"
   },
   "source": [
    "# **Pratinav Seth**\n",
    "\n",
    "## **Reg. No - 200968216**\n",
    "\n",
    "### **Section A Batch 2**\n",
    "\n",
    "### **B.Tech - Data Science and Engineering**\n"
   ]
  },
  {
   "cell_type": "markdown",
   "id": "7Y_XatJrTxjD",
   "metadata": {
    "id": "7Y_XatJrTxjD"
   },
   "source": [
    "# **DSE 2262 MACHINE LEARNING LABORATORY  - Mini Project**"
   ]
  },
  {
   "cell_type": "markdown",
   "id": "SbhsgA3gNqNX",
   "metadata": {
    "id": "SbhsgA3gNqNX"
   },
   "source": [
    "# **Objective:**\n",
    "\n",
    "Build an app with a simple UI which will allow the user to search for movies and give recommendations based on the user and the movie searched for by use of content based and collaborative filtering."
   ]
  },
  {
   "cell_type": "markdown",
   "id": "qIBP-61ONvDR",
   "metadata": {
    "id": "qIBP-61ONvDR"
   },
   "source": [
    "# **Plan of Action and Sub-Objectives :**\n",
    "\n",
    "## **Dataset –**\n",
    "\n",
    "#### •\tGroupLens Research MovieLens ml-latest-small dataset\n",
    "    It consists of 100,000 ratings and 3,600 tag applications applied to 9,000 movies by 600 users. Last updated 9/2018.\n",
    "\n",
    "### NOTE:\n",
    "\n",
    "One Approach was to use -\n",
    "\n",
    "#### •\tGroupLens Research MovieLens ml-latest dataset\n",
    "    It consists of 27,000,000 ratings and 1,100,000 tag applications applied to 58,000 movies by 280,000 users. Includes tag genome data with 14 million relevance scores across 1,100 tags.\n",
    "\n",
    "**Didn’t went for this approach reason being due to lack of computational resources.**"
   ]
  },
  {
   "cell_type": "markdown",
   "id": "51U-uUnCN07d",
   "metadata": {
    "id": "51U-uUnCN07d"
   },
   "source": [
    "# **Tech Stack(*):**  \n",
    "\n",
    "NOTE:There might be minor changes to tech stack in the final project\n",
    "\n",
    "1.\t**Language** – Python\n",
    "\n",
    "2.\t**Libraries,packages,framework&Services** – \n",
    "\n",
    "  a.\tpandas\n",
    "\n",
    "  b.\tnumpy\n",
    "\n",
    "  c.\tseaborn \n",
    "\n",
    "  d.\tmatplotlib \n",
    "\n",
    "  e.\tsckit-learn\n",
    "\n",
    "  f.\tsurprise\n",
    "\n",
    "  g.\tfastapi\n",
    "\n",
    "  h.\tflask\n",
    "\n",
    "  i.\tHeroku\n",
    "\n",
    "  j.\tGCP \n",
    "\n",
    "  k.\tAWS \n",
    "\n",
    "  l.\tAzure \n",
    "\n",
    "  m.\tTensorflow\n",
    "\n",
    "  n.\tPytorch\n",
    "\n",
    "  o.\tLocust\n",
    "\n",
    "  p.\tDocker\n",
    "\n",
    "  q.\tKubernetes \n",
    "\n",
    "  r.\twordcloud\n",
    "\n",
    "3.\t**Training** – Local PC, Google Colab and Paperspace.\n",
    "\n",
    "\n",
    "**NOTE: Will be using surprise package to evaluate the models built- Surprise · A Python scikit for recommender systems. (surpriselib.com)**"
   ]
  },
  {
   "cell_type": "markdown",
   "id": "7Tp7-RaHN3yL",
   "metadata": {
    "id": "7Tp7-RaHN3yL"
   },
   "source": [
    "# **Machine Learning Objectives and Approach:**\n",
    "\n",
    "## **Recommendation System to be used:**\n",
    "\n",
    "Will be trying to implement-\n",
    "\n",
    "1.\t**Content based filtering–**\n",
    "\n",
    "  a.\tRecommending movies based on search made by user by comparing similarities between genres\n",
    "\n",
    "  b.\t Recommending movies based on previous watch history of a user based on genres of previous movies\n",
    "\n",
    "2.\t**Collaborative Filtering-**\n",
    "\n",
    "  a.\tItem-Item Filtering – Given user-id Recommends Movies which isn’t seen by user based on ratings of user towards a movie he had seen\n",
    "\n",
    "  b.\tUser-Item Filtering – Given user-id in database tries to find user most similar and then recommends what that user has seen but our user hasn’t\n",
    "\n",
    "## **Approach to problem the way Tech Stack to be Used:**\n",
    "1.\tTo address this – “- Orchestrate the training workflow assuming the training data is updated regularly” will also investigate cloud platforms and pipelines like Gradient, GCP, AWS and Azure.\n",
    "2.\tFor UI will be using Stream lit , in case of unwanted bugs will shift to HTML based webpage with use of CSS, JS and bootstrap for UI. \n",
    "3.\tFor API creation will be using fastAPI or REST API using Flask.\n",
    "4.\tFor model deployment will be using Heroku or GCP, AWS and Azure.\n",
    "5.\tFor load testing will using locust.\n",
    "6.\tMight need to use DOCKER/Kubernetes if required for deployment(Will try to avoid).\n",
    "7.\tWill try to explore GNN for Collaborative Item-Item Filtering if its within time and resource compute of given timelines of project. Along with that will also try to explore other ML based approaches for the same subject to if its within time and resource compute of given timelines of project."
   ]
  },
  {
   "cell_type": "markdown",
   "id": "gCeCspytD6oG",
   "metadata": {
    "id": "gCeCspytD6oG"
   },
   "source": [
    "# **Meta-Data of Dataset:**\n",
    "\n",
    "## **Dataset -** \n",
    "GroupLens Research MovieLens ml-latest-small dataset\n",
    "\n",
    "\tIt consists of 100,000 ratings and 3,600 tag applications applied to 9,000 movies by 600 users. Last updated 9/2018.\n",
    "\n",
    "## **Summary**\n",
    "\n",
    "This dataset (ml-latest-small) describes 5-star rating and free-text tagging activity from [MovieLens](http://movielens.org), a movie recommendation service. It contains 100836 ratings and 3683 tag applications across 9742 movies. These data were created by 610 users between March 29, 1996 and September 24, 2018. This dataset was generated on September 26, 2018.\n",
    "\n",
    "Users were selected at random for inclusion. All selected users had rated at least 20 movies. No demographic information is included. Each user is represented by an id, and no other information is provided.\n",
    "The data are contained in the files `links.csv`, `movies.csv`, `ratings.csv` and `tags.csv`. More details about the contents and use of all these files follows.\n",
    "\n",
    "This is a *development* dataset. As such, it may change over time and is not an appropriate dataset for shared research results. See available *benchmark* datasets if that is your intent.\n",
    "This and other GroupLens data sets are publicly available for download at <http://grouplens.org/datasets/>.\n",
    "\n",
    "## **Usage License**\n",
    "\n",
    "Neither the University of Minnesota nor any of the researchers involved can guarantee the correctness of the data, its suitability for any particular purpose, or the validity of results based on the use of the data set. The data set may be used for any research purposes under the following conditions:\n",
    "\n",
    "* The user may not state or imply any endorsement from the University of Minnesota or the GroupLens Research Group.\n",
    "* The user must acknowledge the use of the data set in publications resulting from the use of the data set (see below for citation information).\n",
    "* The user may redistribute the data set, including transformations, so long as it is distributed under these same license conditions.\n",
    "* The user may not use this information for any commercial or revenue-bearing purposes without first obtaining permission from a faculty member of the GroupLens Research Project at the University of Minnesota.\n",
    "* The executable software scripts are provided \"as is\" without warranty of any kind, either expressed or implied, including, but not limited to, the implied warranties of merchantability and fitness for a particular purpose. The entire risk as to the quality and performance of them is with you. Should the program prove defective, you assume the cost of all necessary servicing, repair or correction.\n",
    "\n",
    "In no event shall the University of Minnesota, its affiliates or employees be liable to you for any damages arising out of the use or inability to use these programs (including but not limited to loss of data or data being rendered inaccurate).\n",
    "\n",
    "If you have any further questions or comments, please email grouplens-info@umn.edu\n",
    "\n",
    "### **Citation**\n",
    "\n",
    "To acknowledge use of the dataset in publications, please cite the following paper:\n",
    "> F. Maxwell Harper and Joseph A. Konstan. 2015. The MovieLens Datasets: History and Context. ACM Transactions on Interactive Intelligent Systems (TiiS) 5, 4: 19:1–19:19. <https://doi.org/10.1145/2827872>\n",
    "\n",
    "### **Further Information About GroupLens**\n",
    "\n",
    "GroupLens is a research group in the Department of Computer Science and Engineering at the University of Minnesota. Since its inception in 1992, GroupLens's research projects have explored a variety of fields including:\n",
    "\n",
    "* recommender systems\n",
    "* online communities\n",
    "* mobile and ubiquitious technologies\n",
    "* digital libraries\n",
    "* local geographic information systems\n",
    "\n",
    "GroupLens Research operates a movie recommender based on collaborative filtering, MovieLens, which is the source of these data. We encourage you to visit <http://movielens.org> to try it out! If you have exciting ideas for experimental work to conduct on MovieLens, send us an email at <grouplens-info@cs.umn.edu> - we are always interested in working with external collaborators.\n",
    "\n",
    "\n",
    "## **Content and Use of Files**\n",
    "\n",
    "### **Formatting and Encoding**\n",
    "\n",
    "The dataset files are written as [comma-separated values](http://en.wikipedia.org/wiki/Comma-separated_values) files with a single header row. Columns that contain commas (`,`) are escaped using double-quotes (`\"`). These files are encoded as UTF-8. If accented characters in movie titles or tag values (e.g. Misérables, Les (1995)) display incorrectly, make sure that any program reading the data, such as a text editor, terminal, or script, is configured for UTF-8.\n",
    "\n",
    "### **User Ids**\n",
    "\n",
    "MovieLens users were selected at random for inclusion. Their ids have been anonymized. User ids are consistent between `ratings.csv` and `tags.csv` (i.e., the same id refers to the same user across the two files).\n",
    "\n",
    "### **Movie Ids**\n",
    "\n",
    "Only movies with at least one rating or tag are included in the dataset. These movie ids are consistent with those used on the MovieLens web site (e.g., id `1` corresponds to the URL <https://movielens.org/movies/1>). Movie ids are consistent between `ratings.csv`, `tags.csv`, `movies.csv`, and `links.csv` (i.e., the same id refers to the same movie across these four data files).\n",
    "\n",
    "### **Ratings Data File Structure (ratings.csv)**\n",
    "\n",
    "All ratings are contained in the file `ratings.csv`. Each line of this file after the header row represents one rating of one movie by one user, and has the following format:\n",
    "\n",
    "    userId,movieId,rating,timestamp\n",
    "\n",
    "The lines within this file are ordered first by userId, then, within user, by movieId.\n",
    "\n",
    "Ratings are made on a 5-star scale, with half-star increments (0.5 stars - 5.0 stars).\n",
    "\n",
    "Timestamps represent seconds since midnight Coordinated Universal Time (UTC) of January 1, 1970.\n",
    "\n",
    "### **Tags Data File Structure (tags.csv)**\n",
    "\n",
    "All tags are contained in the file `tags.csv`. Each line of this file after the header row represents one tag applied to one movie by one user, and has the following format:\n",
    "\n",
    "    userId,movieId,tag,timestamp\n",
    "\n",
    "The lines within this file are ordered first by userId, then, within user, by movieId.\n",
    "\n",
    "Tags are user-generated metadata about movies. Each tag is typically a single word or short phrase. The meaning, value, and purpose of a particular tag is determined by each user.\n",
    "\n",
    "Timestamps represent seconds since midnight Coordinated Universal Time (UTC) of January 1, 1970.\n",
    "\n",
    "\n",
    "### **Movies Data File Structure (movies.csv)**\n",
    "\n",
    "Movie information is contained in the file `movies.csv`. Each line of this file after the header row represents one movie, and has the following format:\n",
    "\n",
    "    movieId,title,genres\n",
    "\n",
    "Movie titles are entered manually or imported from <https://www.themoviedb.org/>, and include the year of release in parentheses. Errors and inconsistencies may exist in these titles.\n",
    "\n",
    "Genres are a pipe-separated list, and are selected from the following:\n",
    "\n",
    "* Action\n",
    "* Adventure\n",
    "* Animation\n",
    "* Children's\n",
    "* Comedy\n",
    "* Crime\n",
    "* Documentary\n",
    "* Drama\n",
    "* Fantasy\n",
    "* Film-Noir\n",
    "* Horror\n",
    "* Musical\n",
    "* Mystery\n",
    "* Romance\n",
    "* Sci-Fi\n",
    "* Thriller\n",
    "* War\n",
    "* Western\n",
    "* (no genres listed)\n",
    "\n",
    "### **Links Data File Structure (links.csv)**\n",
    "\n",
    "Identifiers that can be used to link to other sources of movie data are contained in the file `links.csv`. Each line of this file after the header row represents one movie, and has the following format:\n",
    "\n",
    "    movieId,imdbId,tmdbId\n",
    "\n",
    "movieId is an identifier for movies used by <https://movielens.org>. E.g., the movie Toy Story has the link <https://movielens.org/movies/1>.\n",
    "\n",
    "imdbId is an identifier for movies used by <http://www.imdb.com>. E.g., the movie Toy Story has the link <http://www.imdb.com/title/tt0114709/>.\n",
    "\n",
    "tmdbId is an identifier for movies used by <https://www.themoviedb.org>. E.g., the movie Toy Story has the link <https://www.themoviedb.org/movie/862>.\n",
    "\n",
    "Use of the resources listed above is subject to the terms of each provider.\n",
    "\n",
    "\n",
    "## **Cross-Validation**\n",
    "\n",
    "Prior versions of the MovieLens dataset included either pre-computed cross-folds or scripts to perform this computation. We no longer bundle either of these features with the dataset, since most modern toolkits provide this as a built-in feature. If you wish to learn about standard approaches to cross-fold computation in the context of recommender systems evaluation, see [LensKit](http://lenskit.org) for tools, documentation, and open-source code examples.\n"
   ]
  },
  {
   "cell_type": "markdown",
   "id": "1gIdDkR_imIf",
   "metadata": {
    "id": "1gIdDkR_imIf"
   },
   "source": [
    "# **Preliminary EDA, Feature Extraction, Pre-processing and Visualization of the Dataset**"
   ]
  },
  {
   "cell_type": "markdown",
   "id": "a-AJ55WSTRPZ",
   "metadata": {
    "id": "a-AJ55WSTRPZ"
   },
   "source": [
    "### Importing Libraries"
   ]
  },
  {
   "cell_type": "code",
   "execution_count": 1,
   "id": "ee866cdc",
   "metadata": {
    "id": "ee866cdc"
   },
   "outputs": [],
   "source": [
    "import pandas as pd\n",
    "import numpy as np\n",
    "import seaborn as sns\n",
    "from matplotlib import pyplot as plt\n",
    "from wordcloud import WordCloud, STOPWORDS"
   ]
  },
  {
   "cell_type": "markdown",
   "id": "yTN8RD5lEObn",
   "metadata": {
    "id": "yTN8RD5lEObn"
   },
   "source": [
    "### Import train and test CSV files"
   ]
  },
  {
   "cell_type": "code",
   "execution_count": 2,
   "id": "afe79121",
   "metadata": {
    "id": "afe79121"
   },
   "outputs": [],
   "source": [
    "df_movies = pd.read_csv(\"movies.csv\")\n",
    "df_ratings = pd.read_csv(\"ratings.csv\")\n",
    "df_links = pd.read_csv(\"links.csv\")\n",
    "df_tags = pd.read_csv(\"tags.csv\")"
   ]
  },
  {
   "cell_type": "markdown",
   "id": "AEoGnfKYESNm",
   "metadata": {
    "id": "AEoGnfKYESNm"
   },
   "source": [
    "### Taking a look at the training data"
   ]
  },
  {
   "cell_type": "code",
   "execution_count": 3,
   "id": "194475ea",
   "metadata": {
    "colab": {
     "base_uri": "https://localhost:8080/"
    },
    "id": "194475ea",
    "outputId": "c6b67f35-6ede-43de-c760-1049b7fb9a2b"
   },
   "outputs": [
    {
     "name": "stdout",
     "output_type": "stream",
     "text": [
      "(9742, 3)\n",
      "(100836, 4)\n",
      "(9742, 3)\n",
      "(3683, 4)\n",
      "\n"
     ]
    }
   ],
   "source": [
    "print(df_movies.shape)\n",
    "print(df_ratings.shape)\n",
    "print(df_links.shape)\n",
    "print(df_tags.shape,end=\"\\n\\n\")"
   ]
  },
  {
   "cell_type": "code",
   "execution_count": 4,
   "id": "7f1df0c2",
   "metadata": {
    "colab": {
     "base_uri": "https://localhost:8080/",
     "height": 143
    },
    "id": "7f1df0c2",
    "outputId": "da87592e-6a0f-4a28-af7b-87bf3f7d5529"
   },
   "outputs": [
    {
     "data": {
      "text/html": [
       "<div>\n",
       "<style scoped>\n",
       "    .dataframe tbody tr th:only-of-type {\n",
       "        vertical-align: middle;\n",
       "    }\n",
       "\n",
       "    .dataframe tbody tr th {\n",
       "        vertical-align: top;\n",
       "    }\n",
       "\n",
       "    .dataframe thead th {\n",
       "        text-align: right;\n",
       "    }\n",
       "</style>\n",
       "<table border=\"1\" class=\"dataframe\">\n",
       "  <thead>\n",
       "    <tr style=\"text-align: right;\">\n",
       "      <th></th>\n",
       "      <th>movieId</th>\n",
       "      <th>title</th>\n",
       "      <th>genres</th>\n",
       "    </tr>\n",
       "  </thead>\n",
       "  <tbody>\n",
       "    <tr>\n",
       "      <th>0</th>\n",
       "      <td>1</td>\n",
       "      <td>Toy Story (1995)</td>\n",
       "      <td>Adventure|Animation|Children|Comedy|Fantasy</td>\n",
       "    </tr>\n",
       "    <tr>\n",
       "      <th>1</th>\n",
       "      <td>2</td>\n",
       "      <td>Jumanji (1995)</td>\n",
       "      <td>Adventure|Children|Fantasy</td>\n",
       "    </tr>\n",
       "    <tr>\n",
       "      <th>2</th>\n",
       "      <td>3</td>\n",
       "      <td>Grumpier Old Men (1995)</td>\n",
       "      <td>Comedy|Romance</td>\n",
       "    </tr>\n",
       "  </tbody>\n",
       "</table>\n",
       "</div>"
      ],
      "text/plain": [
       "   movieId                    title  \\\n",
       "0        1         Toy Story (1995)   \n",
       "1        2           Jumanji (1995)   \n",
       "2        3  Grumpier Old Men (1995)   \n",
       "\n",
       "                                        genres  \n",
       "0  Adventure|Animation|Children|Comedy|Fantasy  \n",
       "1                   Adventure|Children|Fantasy  \n",
       "2                               Comedy|Romance  "
      ]
     },
     "execution_count": 4,
     "metadata": {},
     "output_type": "execute_result"
    }
   ],
   "source": [
    "df_movies.head(3)"
   ]
  },
  {
   "cell_type": "code",
   "execution_count": 5,
   "id": "491747cf",
   "metadata": {
    "colab": {
     "base_uri": "https://localhost:8080/",
     "height": 143
    },
    "id": "491747cf",
    "outputId": "ad6eadea-723f-4bb3-9f79-9a9dadb03a7a"
   },
   "outputs": [
    {
     "data": {
      "text/html": [
       "<div>\n",
       "<style scoped>\n",
       "    .dataframe tbody tr th:only-of-type {\n",
       "        vertical-align: middle;\n",
       "    }\n",
       "\n",
       "    .dataframe tbody tr th {\n",
       "        vertical-align: top;\n",
       "    }\n",
       "\n",
       "    .dataframe thead th {\n",
       "        text-align: right;\n",
       "    }\n",
       "</style>\n",
       "<table border=\"1\" class=\"dataframe\">\n",
       "  <thead>\n",
       "    <tr style=\"text-align: right;\">\n",
       "      <th></th>\n",
       "      <th>movieId</th>\n",
       "      <th>imdbId</th>\n",
       "      <th>tmdbId</th>\n",
       "    </tr>\n",
       "  </thead>\n",
       "  <tbody>\n",
       "    <tr>\n",
       "      <th>0</th>\n",
       "      <td>1</td>\n",
       "      <td>114709</td>\n",
       "      <td>862.0</td>\n",
       "    </tr>\n",
       "    <tr>\n",
       "      <th>1</th>\n",
       "      <td>2</td>\n",
       "      <td>113497</td>\n",
       "      <td>8844.0</td>\n",
       "    </tr>\n",
       "    <tr>\n",
       "      <th>2</th>\n",
       "      <td>3</td>\n",
       "      <td>113228</td>\n",
       "      <td>15602.0</td>\n",
       "    </tr>\n",
       "  </tbody>\n",
       "</table>\n",
       "</div>"
      ],
      "text/plain": [
       "   movieId  imdbId   tmdbId\n",
       "0        1  114709    862.0\n",
       "1        2  113497   8844.0\n",
       "2        3  113228  15602.0"
      ]
     },
     "execution_count": 5,
     "metadata": {},
     "output_type": "execute_result"
    }
   ],
   "source": [
    "df_links.head(3)"
   ]
  },
  {
   "cell_type": "code",
   "execution_count": 6,
   "id": "e6b1452a",
   "metadata": {
    "colab": {
     "base_uri": "https://localhost:8080/",
     "height": 143
    },
    "id": "e6b1452a",
    "outputId": "072b9c89-e96b-4649-9642-5d6801b9d0ca"
   },
   "outputs": [
    {
     "data": {
      "text/html": [
       "<div>\n",
       "<style scoped>\n",
       "    .dataframe tbody tr th:only-of-type {\n",
       "        vertical-align: middle;\n",
       "    }\n",
       "\n",
       "    .dataframe tbody tr th {\n",
       "        vertical-align: top;\n",
       "    }\n",
       "\n",
       "    .dataframe thead th {\n",
       "        text-align: right;\n",
       "    }\n",
       "</style>\n",
       "<table border=\"1\" class=\"dataframe\">\n",
       "  <thead>\n",
       "    <tr style=\"text-align: right;\">\n",
       "      <th></th>\n",
       "      <th>userId</th>\n",
       "      <th>movieId</th>\n",
       "      <th>rating</th>\n",
       "      <th>timestamp</th>\n",
       "    </tr>\n",
       "  </thead>\n",
       "  <tbody>\n",
       "    <tr>\n",
       "      <th>0</th>\n",
       "      <td>1</td>\n",
       "      <td>1</td>\n",
       "      <td>4.0</td>\n",
       "      <td>964982703</td>\n",
       "    </tr>\n",
       "    <tr>\n",
       "      <th>1</th>\n",
       "      <td>1</td>\n",
       "      <td>3</td>\n",
       "      <td>4.0</td>\n",
       "      <td>964981247</td>\n",
       "    </tr>\n",
       "    <tr>\n",
       "      <th>2</th>\n",
       "      <td>1</td>\n",
       "      <td>6</td>\n",
       "      <td>4.0</td>\n",
       "      <td>964982224</td>\n",
       "    </tr>\n",
       "  </tbody>\n",
       "</table>\n",
       "</div>"
      ],
      "text/plain": [
       "   userId  movieId  rating  timestamp\n",
       "0       1        1     4.0  964982703\n",
       "1       1        3     4.0  964981247\n",
       "2       1        6     4.0  964982224"
      ]
     },
     "execution_count": 6,
     "metadata": {},
     "output_type": "execute_result"
    }
   ],
   "source": [
    "df_ratings.head(3)"
   ]
  },
  {
   "cell_type": "code",
   "execution_count": 7,
   "id": "33c7ec6f",
   "metadata": {
    "colab": {
     "base_uri": "https://localhost:8080/",
     "height": 143
    },
    "id": "33c7ec6f",
    "outputId": "dea32f54-c897-4928-b222-783b6012d4ca"
   },
   "outputs": [
    {
     "data": {
      "text/html": [
       "<div>\n",
       "<style scoped>\n",
       "    .dataframe tbody tr th:only-of-type {\n",
       "        vertical-align: middle;\n",
       "    }\n",
       "\n",
       "    .dataframe tbody tr th {\n",
       "        vertical-align: top;\n",
       "    }\n",
       "\n",
       "    .dataframe thead th {\n",
       "        text-align: right;\n",
       "    }\n",
       "</style>\n",
       "<table border=\"1\" class=\"dataframe\">\n",
       "  <thead>\n",
       "    <tr style=\"text-align: right;\">\n",
       "      <th></th>\n",
       "      <th>userId</th>\n",
       "      <th>movieId</th>\n",
       "      <th>tag</th>\n",
       "      <th>timestamp</th>\n",
       "    </tr>\n",
       "  </thead>\n",
       "  <tbody>\n",
       "    <tr>\n",
       "      <th>0</th>\n",
       "      <td>2</td>\n",
       "      <td>60756</td>\n",
       "      <td>funny</td>\n",
       "      <td>1445714994</td>\n",
       "    </tr>\n",
       "    <tr>\n",
       "      <th>1</th>\n",
       "      <td>2</td>\n",
       "      <td>60756</td>\n",
       "      <td>Highly quotable</td>\n",
       "      <td>1445714996</td>\n",
       "    </tr>\n",
       "    <tr>\n",
       "      <th>2</th>\n",
       "      <td>2</td>\n",
       "      <td>60756</td>\n",
       "      <td>will ferrell</td>\n",
       "      <td>1445714992</td>\n",
       "    </tr>\n",
       "  </tbody>\n",
       "</table>\n",
       "</div>"
      ],
      "text/plain": [
       "   userId  movieId              tag   timestamp\n",
       "0       2    60756            funny  1445714994\n",
       "1       2    60756  Highly quotable  1445714996\n",
       "2       2    60756     will ferrell  1445714992"
      ]
     },
     "execution_count": 7,
     "metadata": {},
     "output_type": "execute_result"
    }
   ],
   "source": [
    "df_tags.head(3)"
   ]
  },
  {
   "cell_type": "markdown",
   "id": "n6FR8tkFEZ_o",
   "metadata": {
    "id": "n6FR8tkFEZ_o"
   },
   "source": [
    "### List of the features within the dataset"
   ]
  },
  {
   "cell_type": "code",
   "execution_count": 8,
   "id": "f402bbe4",
   "metadata": {
    "colab": {
     "base_uri": "https://localhost:8080/"
    },
    "id": "f402bbe4",
    "outputId": "4b46180c-02eb-4eb6-913f-5ea3f795b294"
   },
   "outputs": [
    {
     "name": "stdout",
     "output_type": "stream",
     "text": [
      "Movie :  Index(['movieId', 'title', 'genres'], dtype='object')\n",
      "\n",
      "Rating :  Index(['userId', 'movieId', 'rating', 'timestamp'], dtype='object')\n",
      "\n",
      "Links :  Index(['movieId', 'imdbId', 'tmdbId'], dtype='object')\n",
      "\n",
      "Tags :  Index(['userId', 'movieId', 'tag', 'timestamp'], dtype='object')\n",
      "\n"
     ]
    }
   ],
   "source": [
    "print(\"Movie : \", df_movies.columns,end=\"\\n\\n\")\n",
    "print(\"Rating : \", df_ratings.columns,end=\"\\n\\n\")\n",
    "print(\"Links : \", df_links.columns,end=\"\\n\\n\")\n",
    "print(\"Tags : \", df_tags.columns,end=\"\\n\\n\")"
   ]
  },
  {
   "cell_type": "markdown",
   "id": "JQ-XAUQREd_5",
   "metadata": {
    "id": "JQ-XAUQREd_5"
   },
   "source": [
    "### Description of all datasets"
   ]
  },
  {
   "cell_type": "code",
   "execution_count": 9,
   "id": "482f4c05-4cb2-4fa2-91eb-edec0a8b6972",
   "metadata": {
    "colab": {
     "base_uri": "https://localhost:8080/"
    },
    "id": "482f4c05-4cb2-4fa2-91eb-edec0a8b6972",
    "outputId": "e1c9f706-c7ae-411b-ba76-5b5e98810ba0"
   },
   "outputs": [
    {
     "name": "stdout",
     "output_type": "stream",
     "text": [
      "\n",
      "\n",
      "Movie : \n",
      "\n",
      "<class 'pandas.core.frame.DataFrame'>\n",
      "RangeIndex: 9742 entries, 0 to 9741\n",
      "Data columns (total 3 columns):\n",
      " #   Column   Non-Null Count  Dtype \n",
      "---  ------   --------------  ----- \n",
      " 0   movieId  9742 non-null   int64 \n",
      " 1   title    9742 non-null   object\n",
      " 2   genres   9742 non-null   object\n",
      "dtypes: int64(1), object(2)\n",
      "memory usage: 228.5+ KB\n",
      "\n",
      "\n",
      "Rating : \n",
      "\n",
      "<class 'pandas.core.frame.DataFrame'>\n",
      "RangeIndex: 100836 entries, 0 to 100835\n",
      "Data columns (total 4 columns):\n",
      " #   Column     Non-Null Count   Dtype  \n",
      "---  ------     --------------   -----  \n",
      " 0   userId     100836 non-null  int64  \n",
      " 1   movieId    100836 non-null  int64  \n",
      " 2   rating     100836 non-null  float64\n",
      " 3   timestamp  100836 non-null  int64  \n",
      "dtypes: float64(1), int64(3)\n",
      "memory usage: 3.1 MB\n",
      "\n",
      "\n",
      "Links : \n",
      "\n",
      "<class 'pandas.core.frame.DataFrame'>\n",
      "RangeIndex: 9742 entries, 0 to 9741\n",
      "Data columns (total 3 columns):\n",
      " #   Column   Non-Null Count  Dtype  \n",
      "---  ------   --------------  -----  \n",
      " 0   movieId  9742 non-null   int64  \n",
      " 1   imdbId   9742 non-null   int64  \n",
      " 2   tmdbId   9734 non-null   float64\n",
      "dtypes: float64(1), int64(2)\n",
      "memory usage: 228.5 KB\n",
      "\n",
      "\n",
      "Tags : \n",
      "\n",
      "<class 'pandas.core.frame.DataFrame'>\n",
      "RangeIndex: 3683 entries, 0 to 3682\n",
      "Data columns (total 4 columns):\n",
      " #   Column     Non-Null Count  Dtype \n",
      "---  ------     --------------  ----- \n",
      " 0   userId     3683 non-null   int64 \n",
      " 1   movieId    3683 non-null   int64 \n",
      " 2   tag        3683 non-null   object\n",
      " 3   timestamp  3683 non-null   int64 \n",
      "dtypes: int64(3), object(1)\n",
      "memory usage: 115.2+ KB\n"
     ]
    }
   ],
   "source": [
    "print(\"\\n\\nMovie : \",end=\"\\n\\n\")\n",
    "df_movies.info()\n",
    "print(\"\\n\\nRating : \",end=\"\\n\\n\")\n",
    "df_ratings.info()\n",
    "print(\"\\n\\nLinks : \",end=\"\\n\\n\")\n",
    "df_links.info()\n",
    "print(\"\\n\\nTags : \",end=\"\\n\\n\")\n",
    "df_tags.info()"
   ]
  },
  {
   "cell_type": "markdown",
   "id": "yGwXHpRaSD3_",
   "metadata": {
    "id": "yGwXHpRaSD3_"
   },
   "source": [
    "### Visual Representation of commonly used emotions in tags given by user"
   ]
  },
  {
   "cell_type": "code",
   "execution_count": 10,
   "id": "SYqHC8NJPl7e",
   "metadata": {
    "colab": {
     "base_uri": "https://localhost:8080/",
     "height": 466
    },
    "id": "SYqHC8NJPl7e",
    "outputId": "768cb1b1-f1e4-418f-fc90-22040ee945dd"
   },
   "outputs": [
    {
     "data": {
      "text/plain": [
       "\"df_tags['tag'] = df_tags['tag'].astype('str')\\ntitle_corpus = ' '.join(df_tags['tag'])\\ntitle_wordcloud = WordCloud(stopwords=STOPWORDS, background_color='white', height=2000, width=4000).generate(title_corpus)\\nplt.figure(figsize=(16,8))\\nplt.imshow(title_wordcloud)\\nplt.axis('off')\\nplt.show()\""
      ]
     },
     "execution_count": 10,
     "metadata": {},
     "output_type": "execute_result"
    }
   ],
   "source": [
    "\"\"\"df_tags['tag'] = df_tags['tag'].astype('str')\n",
    "title_corpus = ' '.join(df_tags['tag'])\n",
    "title_wordcloud = WordCloud(stopwords=STOPWORDS, background_color='white', height=2000, width=4000).generate(title_corpus)\n",
    "plt.figure(figsize=(16,8))\n",
    "plt.imshow(title_wordcloud)\n",
    "plt.axis('off')\n",
    "plt.show()\"\"\""
   ]
  },
  {
   "cell_type": "markdown",
   "id": "rXvbIRi-SO61",
   "metadata": {
    "id": "rXvbIRi-SO61"
   },
   "source": [
    "### Visual Representation of commonly used titles in tags used by the movies"
   ]
  },
  {
   "cell_type": "code",
   "execution_count": 11,
   "id": "Xf7QiemmI6MF",
   "metadata": {
    "colab": {
     "base_uri": "https://localhost:8080/",
     "height": 466
    },
    "id": "Xf7QiemmI6MF",
    "outputId": "4dd99a12-1bfa-4227-dfc9-fd6302d58b93"
   },
   "outputs": [
    {
     "data": {
      "text/plain": [
       "\"df_movies['title'] = df_movies['title'].astype('str')\\ntitle_corpus = ' '.join(df_movies['title'])\\ntitle_wordcloud = WordCloud(stopwords=STOPWORDS, background_color='white', height=2000, width=4000).generate(title_corpus)\\nplt.figure(figsize=(16,8))\\nplt.imshow(title_wordcloud)\\nplt.axis('off')\\nplt.show()\""
      ]
     },
     "execution_count": 11,
     "metadata": {},
     "output_type": "execute_result"
    }
   ],
   "source": [
    "\"\"\"df_movies['title'] = df_movies['title'].astype('str')\n",
    "title_corpus = ' '.join(df_movies['title'])\n",
    "title_wordcloud = WordCloud(stopwords=STOPWORDS, background_color='white', height=2000, width=4000).generate(title_corpus)\n",
    "plt.figure(figsize=(16,8))\n",
    "plt.imshow(title_wordcloud)\n",
    "plt.axis('off')\n",
    "plt.show()\"\"\""
   ]
  },
  {
   "cell_type": "markdown",
   "id": "rlmVNUa-TZ3b",
   "metadata": {
    "id": "rlmVNUa-TZ3b"
   },
   "source": [
    "### Visualizing the distribution of the genres of movies"
   ]
  },
  {
   "cell_type": "code",
   "execution_count": 12,
   "id": "4b8373ba",
   "metadata": {
    "colab": {
     "base_uri": "https://localhost:8080/",
     "height": 429
    },
    "id": "4b8373ba",
    "outputId": "dce54a84-9146-458c-8e6b-da1dfcf9bcdb",
    "scrolled": true
   },
   "outputs": [
    {
     "data": {
      "text/plain": [
       "<BarContainer object of 19 artists>"
      ]
     },
     "execution_count": 12,
     "metadata": {},
     "output_type": "execute_result"
    },
    {
     "data": {
      "image/png": "[encoded data removed]",
      "text/plain": [
       "<Figure size 1440x504 with 1 Axes>"
      ]
     },
     "metadata": {
      "needs_background": "light"
     },
     "output_type": "display_data"
    }
   ],
   "source": [
    "plt.figure(figsize=(20,7))\n",
    "generlist = df_movies['genres'].apply(lambda generlist_movie : str(generlist_movie).split(\"|\"))\n",
    "geners_count = {}\n",
    "\n",
    "for generlist_movie in generlist:\n",
    "    for gener in generlist_movie:\n",
    "        if(geners_count.get(gener,False)):\n",
    "            geners_count[gener]=geners_count[gener]+1\n",
    "        else:\n",
    "            geners_count[gener] = 1       \n",
    "geners_count.pop(\"(no genres listed)\")\n",
    "plt.bar(geners_count.keys(),geners_count.values(),color='b')"
   ]
  },
  {
   "cell_type": "markdown",
   "id": "4Qm6SqfME8NT",
   "metadata": {
    "id": "4Qm6SqfME8NT"
   },
   "source": [
    "### Extracting Year from the dataset"
   ]
  },
  {
   "cell_type": "code",
   "execution_count": 13,
   "id": "d2461794",
   "metadata": {
    "id": "d2461794"
   },
   "outputs": [],
   "source": [
    "pattern = '\\((\\d{4})\\)'\n",
    "df_movies['year'] = df_movies.title.str.extract(pattern, expand=False) #False returns a series"
   ]
  },
  {
   "cell_type": "markdown",
   "id": "nf7wbj5HFCAe",
   "metadata": {
    "id": "nf7wbj5HFCAe"
   },
   "source": [
    "### Dropping the timestamp from ratings and tags dataframes"
   ]
  },
  {
   "cell_type": "code",
   "execution_count": 14,
   "id": "d4c87cf5-9f1f-459c-ab7c-81c5b5665602",
   "metadata": {
    "id": "d4c87cf5-9f1f-459c-ab7c-81c5b5665602"
   },
   "outputs": [],
   "source": [
    "df_ratings.drop(columns='timestamp',inplace=True)\n",
    "df_tags.drop(columns='timestamp',inplace=True)"
   ]
  },
  {
   "cell_type": "markdown",
   "id": "7cICC8IYFJh3",
   "metadata": {
    "id": "7cICC8IYFJh3"
   },
   "source": [
    "### Visualizing Year and No of movies released to get a brief idea of the dataset"
   ]
  },
  {
   "cell_type": "code",
   "execution_count": 15,
   "id": "fe1913c2-fd81-44b5-a282-e3bdb07be2ee",
   "metadata": {
    "colab": {
     "base_uri": "https://localhost:8080/",
     "height": 792
    },
    "id": "fe1913c2-fd81-44b5-a282-e3bdb07be2ee",
    "outputId": "97bc3b79-75e1-4439-fa85-c28a9be5be0a"
   },
   "outputs": [
    {
     "data": {
      "image/png": "[encoded data removed]",
      "text/plain": [
       "<Figure size 720x720 with 1 Axes>"
      ]
     },
     "metadata": {
      "needs_background": "light"
     },
     "output_type": "display_data"
    },
    {
     "name": "stdout",
     "output_type": "stream",
     "text": [
      "Max No.of Movies Relesed = 311\n",
      "Year = 2002\n"
     ]
    },
    {
     "data": {
      "text/plain": [
       "count    106.000000\n",
       "mean      91.783019\n",
       "std      102.227757\n",
       "min        1.000000\n",
       "25%       16.000000\n",
       "50%       39.500000\n",
       "75%      151.500000\n",
       "max      311.000000\n",
       "Name: title, dtype: float64"
      ]
     },
     "execution_count": 15,
     "metadata": {},
     "output_type": "execute_result"
    }
   ],
   "source": [
    "plt.figure(figsize = (10,10))\n",
    "plt.plot(df_movies.groupby('year').title.count())\n",
    "plt.show()\n",
    "a=df_movies.groupby('year').title.count()\n",
    "print('Max No.of Movies Relesed =',a.max())\n",
    "for i in a.index:\n",
    "    if a[i] == a.max():\n",
    "        print('Year =',i)\n",
    "a.describe()"
   ]
  },
  {
   "cell_type": "markdown",
   "id": "a0g5s-SeTh5O",
   "metadata": {
    "id": "a0g5s-SeTh5O"
   },
   "source": [
    "### Visualizing the distribution of ratings of the movies"
   ]
  },
  {
   "cell_type": "code",
   "execution_count": 16,
   "id": "c62fa1b0",
   "metadata": {
    "colab": {
     "base_uri": "https://localhost:8080/",
     "height": 335
    },
    "id": "c62fa1b0",
    "outputId": "b6b5449a-04b0-45ca-acf3-48b8d922682f"
   },
   "outputs": [
    {
     "name": "stderr",
     "output_type": "stream",
     "text": [
      "C:\\Users\\prati\\anaconda3\\lib\\site-packages\\seaborn\\distributions.py:2557: FutureWarning: `distplot` is a deprecated function and will be removed in a future version. Please adapt your code to use either `displot` (a figure-level function with similar flexibility) or `histplot` (an axes-level function for histograms).\n",
      "  warnings.warn(msg, FutureWarning)\n"
     ]
    },
    {
     "data": {
      "image/png": "[encoded data removed]",
      "text/plain": [
       "<Figure size 432x288 with 1 Axes>"
      ]
     },
     "metadata": {
      "needs_background": "light"
     },
     "output_type": "display_data"
    }
   ],
   "source": [
    "sns.distplot(df_ratings[\"rating\"]);"
   ]
  },
  {
   "cell_type": "code",
   "execution_count": 17,
   "id": "7nDx_NQeIN1u",
   "metadata": {
    "id": "7nDx_NQeIN1u"
   },
   "outputs": [],
   "source": [
    "no_user_voted = df_ratings.groupby('movieId')['rating'].agg('count')\n",
    "no_movies_voted = df_ratings.groupby('userId')['rating'].agg('count')"
   ]
  },
  {
   "cell_type": "code",
   "execution_count": 18,
   "id": "f25eDWA7IDQ7",
   "metadata": {
    "colab": {
     "base_uri": "https://localhost:8080/",
     "height": 279
    },
    "id": "f25eDWA7IDQ7",
    "outputId": "4cb77a0d-157f-4d4c-e2dc-ae5fcb8b7a7c"
   },
   "outputs": [
    {
     "data": {
      "image/png": "[encoded data removed]",
      "text/plain": [
       "<Figure size 1152x288 with 1 Axes>"
      ]
     },
     "metadata": {
      "needs_background": "light"
     },
     "output_type": "display_data"
    }
   ],
   "source": [
    "f,ax = plt.subplots(1,1,figsize=(16,4))\n",
    "plt.scatter(no_user_voted.index,no_user_voted)\n",
    "plt.axhline(y=10,color='r')\n",
    "plt.xlabel('MovieId')\n",
    "plt.ylabel('No. of users voted')\n",
    "plt.show()"
   ]
  },
  {
   "cell_type": "code",
   "execution_count": 19,
   "id": "WKUlYKRUILax",
   "metadata": {
    "colab": {
     "base_uri": "https://localhost:8080/",
     "height": 279
    },
    "id": "WKUlYKRUILax",
    "outputId": "86862fd4-c8d5-4955-99dc-2c01d76c56ee"
   },
   "outputs": [
    {
     "data": {
      "image/png": "[encoded data removed]",
      "text/plain": [
       "<Figure size 1152x288 with 1 Axes>"
      ]
     },
     "metadata": {
      "needs_background": "light"
     },
     "output_type": "display_data"
    }
   ],
   "source": [
    "f,ax = plt.subplots(1,1,figsize=(16,4))\n",
    "plt.scatter(no_movies_voted.index,no_movies_voted,color='mediumseagreen')\n",
    "plt.axhline(y=50,color='r')\n",
    "plt.xlabel('UserId')\n",
    "plt.ylabel('No. of votes by user')\n",
    "plt.show()"
   ]
  },
  {
   "cell_type": "markdown",
   "id": "uAg8Im9lToGp",
   "metadata": {
    "id": "uAg8Im9lToGp"
   },
   "source": [
    "### Merging the dataframe of movies and ratings to explore the dataframe further"
   ]
  },
  {
   "cell_type": "code",
   "execution_count": 20,
   "id": "688da52c",
   "metadata": {
    "id": "688da52c"
   },
   "outputs": [],
   "source": [
    "df_merge_ratings_movies = pd.merge(df_movies, df_ratings, on='movieId', how='inner')"
   ]
  },
  {
   "cell_type": "markdown",
   "id": "y4FCLwFB2XtL",
   "metadata": {
    "id": "y4FCLwFB2XtL"
   },
   "source": [
    "### Plotting the number of reviews for movies of each year\n"
   ]
  },
  {
   "cell_type": "code",
   "execution_count": 21,
   "id": "pe3nte1q1b3u",
   "metadata": {
    "colab": {
     "base_uri": "https://localhost:8080/",
     "height": 438
    },
    "id": "pe3nte1q1b3u",
    "outputId": "dadc09eb-4185-4a28-e1ad-e2a0a43d604a"
   },
   "outputs": [
    {
     "data": {
      "image/png": "[encoded data removed]",
      "text/plain": [
       "<Figure size 1440x504 with 1 Axes>"
      ]
     },
     "metadata": {
      "needs_background": "light"
     },
     "output_type": "display_data"
    }
   ],
   "source": [
    "plt.figure(figsize = (20,7)) \n",
    "plt.title('Avg. Rating of movies of each year') \n",
    "plt.xlabel('Year') \n",
    "plt.ylabel('Avg. Rating')\n",
    "plt.plot(df_merge_ratings_movies.groupby('year')['rating'].mean()) \n",
    "plt.show() "
   ]
  },
  {
   "cell_type": "markdown",
   "id": "pLbp2bab2c3_",
   "metadata": {
    "id": "pLbp2bab2c3_"
   },
   "source": [
    "### Plotting the average rating for movies in each year"
   ]
  },
  {
   "cell_type": "code",
   "execution_count": 22,
   "id": "9MotLMGO2FdX",
   "metadata": {
    "colab": {
     "base_uri": "https://localhost:8080/",
     "height": 621
    },
    "id": "9MotLMGO2FdX",
    "outputId": "e52059e7-567a-4956-a1b9-5a3c405c4180"
   },
   "outputs": [
    {
     "data": {
      "image/png": "[encoded data removed]",
      "text/plain": [
       "<Figure size 720x720 with 1 Axes>"
      ]
     },
     "metadata": {
      "needs_background": "light"
     },
     "output_type": "display_data"
    }
   ],
   "source": [
    "plt.figure(figsize = (10,10))\n",
    "plt.title('Num_reviews for each year')\n",
    "plt.xlabel('Year') \n",
    "plt.ylabel('Number of Reviews')\n",
    "plt.plot(df_merge_ratings_movies.groupby('year').count()['userId'])\n",
    "plt.show() # show"
   ]
  },
  {
   "cell_type": "code",
   "execution_count": null,
   "id": "M3Tr-Hn62FXN",
   "metadata": {
    "id": "M3Tr-Hn62FXN"
   },
   "outputs": [],
   "source": []
  },
  {
   "cell_type": "markdown",
   "id": "Wwz5Juy9T677",
   "metadata": {
    "id": "Wwz5Juy9T677"
   },
   "source": [
    "### Visualizing the No of users and  the average rating they gave"
   ]
  },
  {
   "cell_type": "code",
   "execution_count": 23,
   "id": "110ca21e",
   "metadata": {
    "id": "110ca21e"
   },
   "outputs": [],
   "source": [
    "df_ratings_grouped_by_users = df_merge_ratings_movies.groupby('userId').agg([np.size, np.mean])"
   ]
  },
  {
   "cell_type": "code",
   "execution_count": 24,
   "id": "cf235817",
   "metadata": {
    "colab": {
     "base_uri": "https://localhost:8080/",
     "height": 175
    },
    "id": "cf235817",
    "outputId": "3924ec6b-4f75-4f98-816a-4757f027070d"
   },
   "outputs": [
    {
     "data": {
      "text/html": [
       "<div>\n",
       "<style scoped>\n",
       "    .dataframe tbody tr th:only-of-type {\n",
       "        vertical-align: middle;\n",
       "    }\n",
       "\n",
       "    .dataframe tbody tr th {\n",
       "        vertical-align: top;\n",
       "    }\n",
       "\n",
       "    .dataframe thead tr th {\n",
       "        text-align: left;\n",
       "    }\n",
       "\n",
       "    .dataframe thead tr:last-of-type th {\n",
       "        text-align: right;\n",
       "    }\n",
       "</style>\n",
       "<table border=\"1\" class=\"dataframe\">\n",
       "  <thead>\n",
       "    <tr>\n",
       "      <th></th>\n",
       "      <th colspan=\"2\" halign=\"left\">movieId</th>\n",
       "      <th colspan=\"2\" halign=\"left\">rating</th>\n",
       "    </tr>\n",
       "    <tr>\n",
       "      <th></th>\n",
       "      <th>size</th>\n",
       "      <th>mean</th>\n",
       "      <th>size</th>\n",
       "      <th>mean</th>\n",
       "    </tr>\n",
       "    <tr>\n",
       "      <th>userId</th>\n",
       "      <th></th>\n",
       "      <th></th>\n",
       "      <th></th>\n",
       "      <th></th>\n",
       "    </tr>\n",
       "  </thead>\n",
       "  <tbody>\n",
       "    <tr>\n",
       "      <th>1</th>\n",
       "      <td>232</td>\n",
       "      <td>1854.603448</td>\n",
       "      <td>232.0</td>\n",
       "      <td>4.366379</td>\n",
       "    </tr>\n",
       "    <tr>\n",
       "      <th>2</th>\n",
       "      <td>29</td>\n",
       "      <td>70350.275862</td>\n",
       "      <td>29.0</td>\n",
       "      <td>3.948276</td>\n",
       "    </tr>\n",
       "  </tbody>\n",
       "</table>\n",
       "</div>"
      ],
      "text/plain": [
       "       movieId               rating          \n",
       "          size          mean   size      mean\n",
       "userId                                       \n",
       "1          232   1854.603448  232.0  4.366379\n",
       "2           29  70350.275862   29.0  3.948276"
      ]
     },
     "execution_count": 24,
     "metadata": {},
     "output_type": "execute_result"
    }
   ],
   "source": [
    "df_ratings_grouped_by_users.head(2)"
   ]
  },
  {
   "cell_type": "code",
   "execution_count": 25,
   "id": "40b70195",
   "metadata": {
    "id": "40b70195"
   },
   "outputs": [],
   "source": [
    "df_ratings_grouped_by_users = df_ratings_grouped_by_users.drop('movieId', axis = 1)"
   ]
  },
  {
   "cell_type": "markdown",
   "id": "_1_P7nSxUj-0",
   "metadata": {
    "id": "_1_P7nSxUj-0"
   },
   "source": [
    "### Visualizing the top 10 users who rated the most no of movies"
   ]
  },
  {
   "cell_type": "code",
   "execution_count": 26,
   "id": "8fca1f80",
   "metadata": {
    "colab": {
     "base_uri": "https://localhost:8080/",
     "height": 361
    },
    "id": "8fca1f80",
    "outputId": "1b9f8c41-64e3-4eca-c864-95a5ae62171b"
   },
   "outputs": [
    {
     "data": {
      "text/plain": [
       "<AxesSubplot:xlabel='userId'>"
      ]
     },
     "execution_count": 26,
     "metadata": {},
     "output_type": "execute_result"
    },
    {
     "data": {
      "image/png": "[encoded data removed]",
      "text/plain": [
       "<Figure size 720x360 with 1 Axes>"
      ]
     },
     "metadata": {
      "needs_background": "light"
     },
     "output_type": "display_data"
    }
   ],
   "source": [
    "df_ratings_grouped_by_users['rating']['size'].sort_values(ascending=False).head(10).plot(kind='bar', figsize = (10,5))"
   ]
  },
  {
   "cell_type": "markdown",
   "id": "ZGcAHT2_G89C",
   "metadata": {
    "id": "ZGcAHT2_G89C"
   },
   "source": [
    "### Adding the average movie rating of the movies"
   ]
  },
  {
   "cell_type": "code",
   "execution_count": 27,
   "id": "L6z4XDFfM94X",
   "metadata": {
    "id": "L6z4XDFfM94X"
   },
   "outputs": [],
   "source": [
    "x=df_ratings.groupby('movieId').rating.mean()\n",
    "movie = pd.merge(df_movies,x,how='outer',on='movieId')\n",
    "movie['rating'].fillna('0',inplace=True)"
   ]
  },
  {
   "cell_type": "code",
   "execution_count": 28,
   "id": "1118ca50",
   "metadata": {
    "colab": {
     "base_uri": "https://localhost:8080/",
     "height": 206
    },
    "id": "1118ca50",
    "outputId": "90c91ad4-7ddf-4436-9c27-b6f36b9ddc7f",
    "scrolled": false
   },
   "outputs": [
    {
     "data": {
      "text/html": [
       "<div>\n",
       "<style scoped>\n",
       "    .dataframe tbody tr th:only-of-type {\n",
       "        vertical-align: middle;\n",
       "    }\n",
       "\n",
       "    .dataframe tbody tr th {\n",
       "        vertical-align: top;\n",
       "    }\n",
       "\n",
       "    .dataframe thead th {\n",
       "        text-align: right;\n",
       "    }\n",
       "</style>\n",
       "<table border=\"1\" class=\"dataframe\">\n",
       "  <thead>\n",
       "    <tr style=\"text-align: right;\">\n",
       "      <th></th>\n",
       "      <th>movieId</th>\n",
       "      <th>title</th>\n",
       "      <th>genres</th>\n",
       "      <th>year</th>\n",
       "      <th>rating</th>\n",
       "    </tr>\n",
       "  </thead>\n",
       "  <tbody>\n",
       "    <tr>\n",
       "      <th>9737</th>\n",
       "      <td>193581</td>\n",
       "      <td>Black Butler: Book of the Atlantic (2017)</td>\n",
       "      <td>Action|Animation|Comedy|Fantasy</td>\n",
       "      <td>2017</td>\n",
       "      <td>4.0</td>\n",
       "    </tr>\n",
       "    <tr>\n",
       "      <th>9738</th>\n",
       "      <td>193583</td>\n",
       "      <td>No Game No Life: Zero (2017)</td>\n",
       "      <td>Animation|Comedy|Fantasy</td>\n",
       "      <td>2017</td>\n",
       "      <td>3.5</td>\n",
       "    </tr>\n",
       "    <tr>\n",
       "      <th>9739</th>\n",
       "      <td>193585</td>\n",
       "      <td>Flint (2017)</td>\n",
       "      <td>Drama</td>\n",
       "      <td>2017</td>\n",
       "      <td>3.5</td>\n",
       "    </tr>\n",
       "    <tr>\n",
       "      <th>9740</th>\n",
       "      <td>193587</td>\n",
       "      <td>Bungo Stray Dogs: Dead Apple (2018)</td>\n",
       "      <td>Action|Animation</td>\n",
       "      <td>2018</td>\n",
       "      <td>3.5</td>\n",
       "    </tr>\n",
       "    <tr>\n",
       "      <th>9741</th>\n",
       "      <td>193609</td>\n",
       "      <td>Andrew Dice Clay: Dice Rules (1991)</td>\n",
       "      <td>Comedy</td>\n",
       "      <td>1991</td>\n",
       "      <td>4.0</td>\n",
       "    </tr>\n",
       "  </tbody>\n",
       "</table>\n",
       "</div>"
      ],
      "text/plain": [
       "      movieId                                      title  \\\n",
       "9737   193581  Black Butler: Book of the Atlantic (2017)   \n",
       "9738   193583               No Game No Life: Zero (2017)   \n",
       "9739   193585                               Flint (2017)   \n",
       "9740   193587        Bungo Stray Dogs: Dead Apple (2018)   \n",
       "9741   193609        Andrew Dice Clay: Dice Rules (1991)   \n",
       "\n",
       "                               genres  year rating  \n",
       "9737  Action|Animation|Comedy|Fantasy  2017    4.0  \n",
       "9738         Animation|Comedy|Fantasy  2017    3.5  \n",
       "9739                            Drama  2017    3.5  \n",
       "9740                 Action|Animation  2018    3.5  \n",
       "9741                           Comedy  1991    4.0  "
      ]
     },
     "execution_count": 28,
     "metadata": {},
     "output_type": "execute_result"
    }
   ],
   "source": [
    "movie.tail(5)"
   ]
  },
  {
   "cell_type": "markdown",
   "id": "g97ysqGAHSOo",
   "metadata": {
    "id": "g97ysqGAHSOo"
   },
   "source": [
    "### Now Lets group all the ratings with respect to movieId and count the no of Users\n",
    "Done by Extracting No of Users who rated the movie and Finding the most popular movies and their ratings\n",
    "\n"
   ]
  },
  {
   "cell_type": "code",
   "execution_count": 29,
   "id": "c24d3adf",
   "metadata": {
    "colab": {
     "base_uri": "https://localhost:8080/",
     "height": 424
    },
    "id": "c24d3adf",
    "outputId": "3d4db5af-6575-45f9-ff97-e17da78279a1",
    "scrolled": true
   },
   "outputs": [
    {
     "data": {
      "text/html": [
       "<div>\n",
       "<style scoped>\n",
       "    .dataframe tbody tr th:only-of-type {\n",
       "        vertical-align: middle;\n",
       "    }\n",
       "\n",
       "    .dataframe tbody tr th {\n",
       "        vertical-align: top;\n",
       "    }\n",
       "\n",
       "    .dataframe thead th {\n",
       "        text-align: right;\n",
       "    }\n",
       "</style>\n",
       "<table border=\"1\" class=\"dataframe\">\n",
       "  <thead>\n",
       "    <tr style=\"text-align: right;\">\n",
       "      <th></th>\n",
       "      <th>movieId</th>\n",
       "      <th>title</th>\n",
       "      <th>genres</th>\n",
       "      <th>year</th>\n",
       "      <th>rating</th>\n",
       "      <th>userId</th>\n",
       "    </tr>\n",
       "  </thead>\n",
       "  <tbody>\n",
       "    <tr>\n",
       "      <th>314</th>\n",
       "      <td>356</td>\n",
       "      <td>Forrest Gump (1994)</td>\n",
       "      <td>Comedy|Drama|Romance|War</td>\n",
       "      <td>1994</td>\n",
       "      <td>4.164134</td>\n",
       "      <td>329.0</td>\n",
       "    </tr>\n",
       "    <tr>\n",
       "      <th>277</th>\n",
       "      <td>318</td>\n",
       "      <td>Shawshank Redemption, The (1994)</td>\n",
       "      <td>Crime|Drama</td>\n",
       "      <td>1994</td>\n",
       "      <td>4.429022</td>\n",
       "      <td>317.0</td>\n",
       "    </tr>\n",
       "    <tr>\n",
       "      <th>257</th>\n",
       "      <td>296</td>\n",
       "      <td>Pulp Fiction (1994)</td>\n",
       "      <td>Comedy|Crime|Drama|Thriller</td>\n",
       "      <td>1994</td>\n",
       "      <td>4.197068</td>\n",
       "      <td>307.0</td>\n",
       "    </tr>\n",
       "    <tr>\n",
       "      <th>510</th>\n",
       "      <td>593</td>\n",
       "      <td>Silence of the Lambs, The (1991)</td>\n",
       "      <td>Crime|Horror|Thriller</td>\n",
       "      <td>1991</td>\n",
       "      <td>4.16129</td>\n",
       "      <td>279.0</td>\n",
       "    </tr>\n",
       "    <tr>\n",
       "      <th>1939</th>\n",
       "      <td>2571</td>\n",
       "      <td>Matrix, The (1999)</td>\n",
       "      <td>Action|Sci-Fi|Thriller</td>\n",
       "      <td>1999</td>\n",
       "      <td>4.192446</td>\n",
       "      <td>278.0</td>\n",
       "    </tr>\n",
       "    <tr>\n",
       "      <th>...</th>\n",
       "      <td>...</td>\n",
       "      <td>...</td>\n",
       "      <td>...</td>\n",
       "      <td>...</td>\n",
       "      <td>...</td>\n",
       "      <td>...</td>\n",
       "    </tr>\n",
       "    <tr>\n",
       "      <th>5749</th>\n",
       "      <td>30892</td>\n",
       "      <td>In the Realms of the Unreal (2004)</td>\n",
       "      <td>Animation|Documentary</td>\n",
       "      <td>2004</td>\n",
       "      <td>0</td>\n",
       "      <td>NaN</td>\n",
       "    </tr>\n",
       "    <tr>\n",
       "      <th>5824</th>\n",
       "      <td>32160</td>\n",
       "      <td>Twentieth Century (1934)</td>\n",
       "      <td>Comedy</td>\n",
       "      <td>1934</td>\n",
       "      <td>0</td>\n",
       "      <td>NaN</td>\n",
       "    </tr>\n",
       "    <tr>\n",
       "      <th>5837</th>\n",
       "      <td>32371</td>\n",
       "      <td>Call Northside 777 (1948)</td>\n",
       "      <td>Crime|Drama|Film-Noir</td>\n",
       "      <td>1948</td>\n",
       "      <td>0</td>\n",
       "      <td>NaN</td>\n",
       "    </tr>\n",
       "    <tr>\n",
       "      <th>5957</th>\n",
       "      <td>34482</td>\n",
       "      <td>Browning Version, The (1951)</td>\n",
       "      <td>Drama</td>\n",
       "      <td>1951</td>\n",
       "      <td>0</td>\n",
       "      <td>NaN</td>\n",
       "    </tr>\n",
       "    <tr>\n",
       "      <th>7565</th>\n",
       "      <td>85565</td>\n",
       "      <td>Chalet Girl (2011)</td>\n",
       "      <td>Comedy|Romance</td>\n",
       "      <td>2011</td>\n",
       "      <td>0</td>\n",
       "      <td>NaN</td>\n",
       "    </tr>\n",
       "  </tbody>\n",
       "</table>\n",
       "<p>9742 rows × 6 columns</p>\n",
       "</div>"
      ],
      "text/plain": [
       "      movieId                               title  \\\n",
       "314       356                 Forrest Gump (1994)   \n",
       "277       318    Shawshank Redemption, The (1994)   \n",
       "257       296                 Pulp Fiction (1994)   \n",
       "510       593    Silence of the Lambs, The (1991)   \n",
       "1939     2571                  Matrix, The (1999)   \n",
       "...       ...                                 ...   \n",
       "5749    30892  In the Realms of the Unreal (2004)   \n",
       "5824    32160            Twentieth Century (1934)   \n",
       "5837    32371           Call Northside 777 (1948)   \n",
       "5957    34482        Browning Version, The (1951)   \n",
       "7565    85565                  Chalet Girl (2011)   \n",
       "\n",
       "                           genres  year    rating  userId  \n",
       "314      Comedy|Drama|Romance|War  1994  4.164134   329.0  \n",
       "277                   Crime|Drama  1994  4.429022   317.0  \n",
       "257   Comedy|Crime|Drama|Thriller  1994  4.197068   307.0  \n",
       "510         Crime|Horror|Thriller  1991   4.16129   279.0  \n",
       "1939       Action|Sci-Fi|Thriller  1999  4.192446   278.0  \n",
       "...                           ...   ...       ...     ...  \n",
       "5749        Animation|Documentary  2004         0     NaN  \n",
       "5824                       Comedy  1934         0     NaN  \n",
       "5837        Crime|Drama|Film-Noir  1948         0     NaN  \n",
       "5957                        Drama  1951         0     NaN  \n",
       "7565               Comedy|Romance  2011         0     NaN  \n",
       "\n",
       "[9742 rows x 6 columns]"
      ]
     },
     "execution_count": 29,
     "metadata": {},
     "output_type": "execute_result"
    }
   ],
   "source": [
    "x = df_ratings.groupby('movieId',as_index=False).userId.count()\n",
    "x.sort_values('userId',ascending=False,inplace=True)\n",
    "y = pd.merge(movie,x,how='outer',on='movieId')\n",
    "\n",
    "y.sort_values(['userId','rating'],ascending=False)"
   ]
  },
  {
   "cell_type": "code",
   "execution_count": 30,
   "id": "10d95381",
   "metadata": {
    "id": "10d95381"
   },
   "outputs": [],
   "source": [
    "x = df_ratings.groupby('userId',as_index=False).movieId.count()\n",
    "y = df_ratings.groupby('userId',as_index=False).rating.mean()\n",
    "x = pd.merge(x,y,how='outer',on='userId')"
   ]
  },
  {
   "cell_type": "code",
   "execution_count": 31,
   "id": "7473bd96",
   "metadata": {
    "colab": {
     "base_uri": "https://localhost:8080/",
     "height": 300
    },
    "id": "7473bd96",
    "outputId": "77afb6e2-41ff-47a6-d1b1-1ca7f074a7eb"
   },
   "outputs": [
    {
     "data": {
      "text/html": [
       "<div>\n",
       "<style scoped>\n",
       "    .dataframe tbody tr th:only-of-type {\n",
       "        vertical-align: middle;\n",
       "    }\n",
       "\n",
       "    .dataframe tbody tr th {\n",
       "        vertical-align: top;\n",
       "    }\n",
       "\n",
       "    .dataframe thead th {\n",
       "        text-align: right;\n",
       "    }\n",
       "</style>\n",
       "<table border=\"1\" class=\"dataframe\">\n",
       "  <thead>\n",
       "    <tr style=\"text-align: right;\">\n",
       "      <th></th>\n",
       "      <th>userId</th>\n",
       "      <th>movieId</th>\n",
       "      <th>rating</th>\n",
       "    </tr>\n",
       "  </thead>\n",
       "  <tbody>\n",
       "    <tr>\n",
       "      <th>count</th>\n",
       "      <td>610.000000</td>\n",
       "      <td>610.000000</td>\n",
       "      <td>610.000000</td>\n",
       "    </tr>\n",
       "    <tr>\n",
       "      <th>mean</th>\n",
       "      <td>305.500000</td>\n",
       "      <td>165.304918</td>\n",
       "      <td>3.657222</td>\n",
       "    </tr>\n",
       "    <tr>\n",
       "      <th>std</th>\n",
       "      <td>176.236111</td>\n",
       "      <td>269.480584</td>\n",
       "      <td>0.480635</td>\n",
       "    </tr>\n",
       "    <tr>\n",
       "      <th>min</th>\n",
       "      <td>1.000000</td>\n",
       "      <td>20.000000</td>\n",
       "      <td>1.275000</td>\n",
       "    </tr>\n",
       "    <tr>\n",
       "      <th>25%</th>\n",
       "      <td>153.250000</td>\n",
       "      <td>35.000000</td>\n",
       "      <td>3.360000</td>\n",
       "    </tr>\n",
       "    <tr>\n",
       "      <th>50%</th>\n",
       "      <td>305.500000</td>\n",
       "      <td>70.500000</td>\n",
       "      <td>3.694385</td>\n",
       "    </tr>\n",
       "    <tr>\n",
       "      <th>75%</th>\n",
       "      <td>457.750000</td>\n",
       "      <td>168.000000</td>\n",
       "      <td>3.997500</td>\n",
       "    </tr>\n",
       "    <tr>\n",
       "      <th>max</th>\n",
       "      <td>610.000000</td>\n",
       "      <td>2698.000000</td>\n",
       "      <td>5.000000</td>\n",
       "    </tr>\n",
       "  </tbody>\n",
       "</table>\n",
       "</div>"
      ],
      "text/plain": [
       "           userId      movieId      rating\n",
       "count  610.000000   610.000000  610.000000\n",
       "mean   305.500000   165.304918    3.657222\n",
       "std    176.236111   269.480584    0.480635\n",
       "min      1.000000    20.000000    1.275000\n",
       "25%    153.250000    35.000000    3.360000\n",
       "50%    305.500000    70.500000    3.694385\n",
       "75%    457.750000   168.000000    3.997500\n",
       "max    610.000000  2698.000000    5.000000"
      ]
     },
     "execution_count": 31,
     "metadata": {},
     "output_type": "execute_result"
    }
   ],
   "source": [
    "x.describe()\n"
   ]
  },
  {
   "cell_type": "markdown",
   "id": "Xeul0nfnPhNd",
   "metadata": {
    "id": "Xeul0nfnPhNd"
   },
   "source": [
    "# **Conclusion : Analysis of Dataset -**\n",
    "\n",
    "- The Year with **most no.of Movies** Released is **2002** with **311** Movie.\n",
    "\n",
    "- The Most **commen Genre** is **Drama** with **4361 Movies** followed by **Comedy with 3756 Movies**.\n",
    "\n",
    "- The Movie with **most no.of Users ratings** is **Forest Gump (1994)** with **Highest no.of. Ratings with 4.16 Stars** by **329 Users as Average** followed by **Shawshank Redemption, The (1994)** with **317 User Ratings and 4.42 Stars as Average**.\n",
    "\n",
    "- The **User with Highest no.of Ratings** and their **Avg. Rating is userId - 414 with 2698 no.of Ratings** and **a Average Rating of 3.39 Stars followed by userId-599 with 2478 Ratings with Average Rating of 2.64 Stars**.\n"
   ]
  },
  {
   "cell_type": "markdown",
   "id": "SYLFiHBkQbH7",
   "metadata": {
    "id": "SYLFiHBkQbH7"
   },
   "source": [
    "# **Pre-processing and Preparing Dataset for future Recommendation System Modelling**"
   ]
  },
  {
   "cell_type": "code",
   "execution_count": 32,
   "id": "nrCyfngTQjGm",
   "metadata": {
    "colab": {
     "base_uri": "https://localhost:8080/",
     "height": 789
    },
    "id": "nrCyfngTQjGm",
    "outputId": "8e600ad3-e00c-4849-f0f2-d058f6d6b276"
   },
   "outputs": [
    {
     "data": {
      "text/plain": [
       "\"genres=[]\\nfor i in range(len(df_movies.genres)):\\n    for x in df_movies.genres[i].split('|'):\\n        if x not in genres:\\n            genres.append(x)  \\n\\nlen(genres)\\nfor x in genres:\\n    df_movies[x] = 0\\nfor i in range(len(df_movies.genres)):\\n    for x in df_movies.genres[i].split('|'):\\n        df_movies[x][i]=1\\ndf_movies.tail()\""
      ]
     },
     "execution_count": 32,
     "metadata": {},
     "output_type": "execute_result"
    }
   ],
   "source": [
    "\"\"\"genres=[]\n",
    "for i in range(len(df_movies.genres)):\n",
    "    for x in df_movies.genres[i].split('|'):\n",
    "        if x not in genres:\n",
    "            genres.append(x)  \n",
    "\n",
    "len(genres)\n",
    "for x in genres:\n",
    "    df_movies[x] = 0\n",
    "for i in range(len(df_movies.genres)):\n",
    "    for x in df_movies.genres[i].split('|'):\n",
    "        df_movies[x][i]=1\n",
    "df_movies.tail()\"\"\""
   ]
  },
  {
   "cell_type": "code",
   "execution_count": 33,
   "id": "dybYt0axSxp0",
   "metadata": {
    "colab": {
     "base_uri": "https://localhost:8080/",
     "height": 267
    },
    "id": "dybYt0axSxp0",
    "outputId": "a9bd1844-524d-4a2b-9bfb-b25f3187d935"
   },
   "outputs": [
    {
     "data": {
      "text/plain": [
       "\"movieid_rating_pivot = pd.pivot(index = 'movieId',columns = 'userId', data = df_ratings,values ='rating')\\nmovieid_rating_pivot.fillna(0,inplace = True)\\nmovieid_rating_pivot.head()\""
      ]
     },
     "execution_count": 33,
     "metadata": {},
     "output_type": "execute_result"
    }
   ],
   "source": [
    "\"\"\"movieid_rating_pivot = pd.pivot(index = 'movieId',columns = 'userId', data = df_ratings,values ='rating')\n",
    "movieid_rating_pivot.fillna(0,inplace = True)\n",
    "movieid_rating_pivot.head()\"\"\""
   ]
  },
  {
   "cell_type": "code",
   "execution_count": null,
   "id": "qxIgii4US4xj",
   "metadata": {
    "id": "qxIgii4US4xj"
   },
   "outputs": [],
   "source": []
  },
  {
   "cell_type": "code",
   "execution_count": 34,
   "id": "b3241f74",
   "metadata": {},
   "outputs": [
    {
     "ename": "SyntaxError",
     "evalue": "invalid syntax (<ipython-input-34-1abb89e876f3>, line 1)",
     "output_type": "error",
     "traceback": [
      "\u001b[1;36m  File \u001b[1;32m\"<ipython-input-34-1abb89e876f3>\"\u001b[1;36m, line \u001b[1;32m1\u001b[0m\n\u001b[1;33m    Will be trying to implement-\u001b[0m\n\u001b[1;37m         ^\u001b[0m\n\u001b[1;31mSyntaxError\u001b[0m\u001b[1;31m:\u001b[0m invalid syntax\n"
     ]
    }
   ],
   "source": [
    "Will be trying to implement-\n",
    "\n",
    "1.\t**Content based filtering–**\n",
    "\n",
    "  a.\tRecommending movies based on search made by user by comparing similarities between genres\n",
    "\n",
    "  b.\t Recommending movies based on previous watch history of a user based on genres of previous movies\n",
    "\n",
    "2.\t**Collaborative Filtering-**\n",
    "\n",
    "  a.\tItem-Item Filtering – Given user-id Recommends Movies which isn’t seen by user based on ratings of user towards a movie he had seen\n",
    "\n",
    "  b.\tUser-Item Filtering – Given user-id in database tries to find user most similar and then recommends what that user has seen but our user hasn’t"
   ]
  },
  {
   "cell_type": "code",
   "execution_count": 35,
   "id": "7e99f581",
   "metadata": {},
   "outputs": [],
   "source": [
    "from sklearn.feature_extraction.text import TfidfVectorizer\n",
    "from sklearn.metrics.pairwise import linear_kernel"
   ]
  },
  {
   "cell_type": "code",
   "execution_count": 36,
   "id": "93e0a728",
   "metadata": {},
   "outputs": [],
   "source": [
    "#Content based filtering - Recommending movies based on search made by user by comparing similarities between genres"
   ]
  },
  {
   "cell_type": "code",
   "execution_count": 37,
   "id": "3f45847e",
   "metadata": {},
   "outputs": [
    {
     "name": "stdout",
     "output_type": "stream",
     "text": [
      "['action', 'adventure', 'animation', 'children', 'comedy', 'crime', 'documentary', 'drama', 'fantasy', 'film-noir', 'horror', 'imax', 'musical', 'mystery', 'romance', 'sci-fi', 'thriller', 'war', 'western']\n",
      "(9742, 19)\n",
      "float64\n",
      "[[1.         0.81357774 0.15276924 ... 0.         0.4210373  0.26758648]\n",
      " [0.81357774 1.         0.         ... 0.         0.         0.        ]\n",
      " [0.15276924 0.         1.         ... 0.         0.         0.57091541]\n",
      " ...\n",
      " [0.         0.         0.         ... 1.         0.         0.        ]\n",
      " [0.4210373  0.         0.         ... 0.         1.         0.        ]\n",
      " [0.26758648 0.         0.57091541 ... 0.         0.         1.        ]]\n",
      "(9742, 9742)\n"
     ]
    }
   ],
   "source": [
    "# Define a TF-IDF Vectorizer Object.\n",
    "tfidf_movies_genres = TfidfVectorizer(token_pattern = '[a-zA-Z0-9\\-]+')\n",
    "#Replace NaN with an empty string\n",
    "df_movies['genres'] = df_movies['genres'].replace(to_replace=\"(no genres listed)\", value=\"\")\n",
    "#Construct the required TF-IDF matrix by fitting and transforming the data\n",
    "tfidf_movies_genres_matrix = tfidf_movies_genres.fit_transform(df_movies['genres'])\n",
    "print(tfidf_movies_genres.get_feature_names())\n",
    "print(tfidf_movies_genres_matrix.shape)\n",
    "print(tfidf_movies_genres_matrix.dtype)\n",
    "cosine_sim_movies = linear_kernel(tfidf_movies_genres_matrix, tfidf_movies_genres_matrix)\n",
    "print(cosine_sim_movies)\n",
    "print(cosine_sim_movies.shape)"
   ]
  },
  {
   "cell_type": "code",
   "execution_count": 38,
   "id": "06d86c2c",
   "metadata": {},
   "outputs": [],
   "source": [
    "def get_recommendations_based_on_genres(movie_title, cosine_sim_movies=cosine_sim_movies):\n",
    "    \"\"\"\n",
    "    Calculates top 2 movies to recommend based on given movie titles genres. \n",
    "    :param movie_title: title of movie to be taken for base of recommendation\n",
    "    :param cosine_sim_movies: cosine similarity between movies \n",
    "    :return: Titles of movies recommended to user\n",
    "    \"\"\"\n",
    "    # Get the index of the movie that matches the title\n",
    "    idx_movie = df_movies.loc[df_movies['title'].isin([movie_title])]\n",
    "    idx_movie = idx_movie.index\n",
    "    \n",
    "    # Get the pairwsie similarity scores of all movies with that movie\n",
    "    sim_scores_movies = list(enumerate(cosine_sim_movies[idx_movie][0]))\n",
    "    \n",
    "    # Sort the movies based on the similarity scores\n",
    "    sim_scores_movies = sorted(sim_scores_movies, key=lambda x: x[1], reverse=True)\n",
    "\n",
    "    # Get the scores of the 2 most similar movies\n",
    "    sim_scores_movies = sim_scores_movies[1:3]\n",
    "    \n",
    "    # Get the movie indices\n",
    "    movie_indices = [i[0] for i in sim_scores_movies]\n",
    "    \n",
    "    # Return the top 2 most similar movies\n",
    "    return df_movies['title'].iloc[movie_indices]\n"
   ]
  },
  {
   "cell_type": "code",
   "execution_count": 39,
   "id": "670792ad",
   "metadata": {},
   "outputs": [
    {
     "data": {
      "text/plain": [
       "17                        Four Rooms (1995)\n",
       "18    Ace Ventura: When Nature Calls (1995)\n",
       "Name: title, dtype: object"
      ]
     },
     "execution_count": 39,
     "metadata": {},
     "output_type": "execute_result"
    }
   ],
   "source": [
    "get_recommendations_based_on_genres(\"Father of the Bride Part II (1995)\")"
   ]
  },
  {
   "cell_type": "code",
   "execution_count": 40,
   "id": "69b804ca",
   "metadata": {},
   "outputs": [],
   "source": [
    "#Content based filtering–Recommending movies based on previous watch history of a user based on genres of previous movies"
   ]
  },
  {
   "cell_type": "code",
   "execution_count": 41,
   "id": "a2879f97",
   "metadata": {},
   "outputs": [],
   "source": [
    "def get_recommendation_content_model(userId):\n",
    "    \"\"\"\n",
    "    Calculates top movies to be recommended to user based on movie user has watched.  \n",
    "    :param userId: userid of user\n",
    "    :return: Titles of movies recommended to user\n",
    "    \"\"\"\n",
    "    recommended_movie_list = []\n",
    "    movie_list = []\n",
    "    df_rating_filtered = df_ratings[df_ratings[\"userId\"]== userId]\n",
    "    for key, row in df_rating_filtered.iterrows():\n",
    "        movie_list.append((df_movies[\"title\"][row[\"movieId\"]==df_movies[\"movieId\"]]).values) \n",
    "    for index, movie in enumerate(movie_list):\n",
    "        for key, movie_recommended in get_recommendations_based_on_genres(movie[0]).iteritems():\n",
    "            recommended_movie_list.append(movie_recommended)\n",
    "\n",
    "    # removing already watched movie from recommended list    \n",
    "    for movie_title in recommended_movie_list:\n",
    "        if movie_title in movie_list:\n",
    "            recommended_movie_list.remove(movie_title)\n",
    "    \n",
    "    return set(recommended_movie_list)"
   ]
  },
  {
   "cell_type": "code",
   "execution_count": 42,
   "id": "a8645fae",
   "metadata": {},
   "outputs": [
    {
     "data": {
      "text/plain": [
       "{'300: Rise of an Empire (2014)',\n",
       " 'Ace Ventura: When Nature Calls (1995)',\n",
       " 'Adventures in Babysitting (1987)',\n",
       " 'Aladdin and the King of Thieves (1996)',\n",
       " 'Alice in Wonderland (2010)',\n",
       " 'Along Came a Spider (2001)',\n",
       " 'American President, The (1995)',\n",
       " \"Antonia's Line (Antonia) (1995)\",\n",
       " 'Around the World in 80 Days (1956)',\n",
       " 'Assassins (1995)',\n",
       " 'Asterix and Cleopatra (Astérix et Cléopâtre) (1968)',\n",
       " 'Babes in Toyland (1934)',\n",
       " 'Batman Forever (1995)',\n",
       " 'Beauty and the Beast (1991)',\n",
       " 'Before the Rain (Pred dozhdot) (1994)',\n",
       " 'Ben-Hur (1959)',\n",
       " 'Beowulf & Grendel (2005)',\n",
       " 'Big Bully (1996)',\n",
       " 'Blood and Chocolate (2007)',\n",
       " 'Bolt (2008)',\n",
       " 'Broken Arrow (1996)',\n",
       " \"Bug's Life, A (1998)\",\n",
       " 'Captain Horatio Hornblower R.N. (1951)',\n",
       " 'Clear and Present Danger (1994)',\n",
       " 'Cliffhanger (1993)',\n",
       " 'Cloud Atlas (2012)',\n",
       " 'Clueless (1995)',\n",
       " 'Corpse Bride (2005)',\n",
       " 'Dangerous Minds (1995)',\n",
       " 'Dark Knight, The (2008)',\n",
       " 'Die Hard: With a Vengeance (1995)',\n",
       " \"Dracula (Bram Stoker's Dracula) (1992)\",\n",
       " 'Dragon Ball: Mystical Adventure (Doragon bôru: Makafushigi dai bôken) (1988)',\n",
       " \"Dragon Ball: Sleeping Princess in Devil's Castle (Doragon bôru: Majinjô no nemuri hime) (1987)\",\n",
       " 'Elektra (2005)',\n",
       " 'Emerald Green (2016)',\n",
       " 'Excalibur (1981)',\n",
       " 'Family Guy Presents Stewie Griffin: The Untold Story (2005)',\n",
       " 'Fantasia 2000 (1999)',\n",
       " 'Fantastic Mr. Fox (2009)',\n",
       " 'Fargo (1996)',\n",
       " 'Four Rooms (1995)',\n",
       " 'Freeway (1996)',\n",
       " 'Gay Divorcee, The (1934)',\n",
       " 'Ghost (1990)',\n",
       " 'Ghost and Mrs. Muir, The (1947)',\n",
       " 'Gnomeo & Juliet (2011)',\n",
       " 'Grandmaster, The (Yi dai zong shi) (2013)',\n",
       " 'Guns of Navarone, The (1961)',\n",
       " 'Harry Potter and the Deathly Hallows: Part 2 (2011)',\n",
       " 'Harry Potter and the Goblet of Fire (2005)',\n",
       " 'Harry Potter and the Order of the Phoenix (2007)',\n",
       " 'Hercules (1997)',\n",
       " 'Hobbit: An Unexpected Journey, The (2012)',\n",
       " \"It's a Mad, Mad, Mad, Mad World (1963)\",\n",
       " 'Jack Ryan: Shadow Recruit (2014)',\n",
       " 'Jewel of the Nile, The (1985)',\n",
       " 'Jimmy Hollywood (1994)',\n",
       " 'Jimmy Neutron: Boy Genius (2001)',\n",
       " 'Johnny Mnemonic (1995)',\n",
       " 'Journey to the West: Conquering the Demons (Daai wa sai you chi Chui mo chun kei) (2013)',\n",
       " 'Kung Fu Panda (2008)',\n",
       " 'Kung Fu Panda: Secrets of the Furious Five (2008)',\n",
       " 'Leaving Las Vegas (1995)',\n",
       " 'Let Me In (2010)',\n",
       " 'Life Is Beautiful (La Vita è bella) (1997)',\n",
       " 'Like Water for Chocolate (Como agua para chocolate) (1992)',\n",
       " \"Lion King II: Simba's Pride, The (1998)\",\n",
       " 'Léon: The Professional (a.k.a. The Professional) (Léon) (1994)',\n",
       " 'Man in the Iron Mask, The (1998)',\n",
       " 'Mighty Aphrodite (1995)',\n",
       " 'Mission: Impossible - Ghost Protocol (2011)',\n",
       " 'Misérables, Les (1995)',\n",
       " 'Need for Speed (2014)',\n",
       " 'Noah (2014)',\n",
       " 'Normal Life (1996)',\n",
       " 'Oliver & Company (1988)',\n",
       " 'Open Season (2006)',\n",
       " 'Orlando (1992)',\n",
       " 'Othello (1995)',\n",
       " 'Persuasion (1995)',\n",
       " 'Powerpuff Girls, The (2002)',\n",
       " 'Puss in Boots (Nagagutsu o haita neko) (1969)',\n",
       " 'Romancing the Stone (1984)',\n",
       " 'Sabrina (1995)',\n",
       " 'Screamers (1995)',\n",
       " 'Seeker: The Dark Is Rising, The (2007)',\n",
       " 'Shrek 2 (2004)',\n",
       " 'Sinbad and the Eye of the Tiger (1977)',\n",
       " 'Stalingrad (2013)',\n",
       " 'Sucker Punch (2011)',\n",
       " 'Superman Returns (2006)',\n",
       " 'Tarzan (1999)',\n",
       " 'Tie Me Up! Tie Me Down! (¡Átame!) (1990)',\n",
       " 'Top Hat (1935)',\n",
       " 'Train of Life (Train de vie) (1998)',\n",
       " 'Trainspotting (1996)',\n",
       " 'Transcendence (2014)',\n",
       " 'West Side Story (1961)',\n",
       " 'What Lies Beneath (2000)',\n",
       " 'Willy Wonka & the Chocolate Factory (1971)',\n",
       " 'Yellow Submarine (1968)'}"
      ]
     },
     "execution_count": 42,
     "metadata": {},
     "output_type": "execute_result"
    }
   ],
   "source": [
    "get_recommendation_content_model(10)"
   ]
  },
  {
   "cell_type": "code",
   "execution_count": 43,
   "id": "70b4fda3",
   "metadata": {},
   "outputs": [],
   "source": [
    "from sklearn.neighbors import KNeighborsClassifier  \n",
    "def get_movie_label(movie_id):\n",
    "    \"\"\"\n",
    "    Get the cluster label to which movie belongs by KNN algorithm.  \n",
    "    :param movie_id: movie id\n",
    "    :return: genres label to movie belong\n",
    "    \"\"\"\n",
    "    classifier = KNeighborsClassifier(n_neighbors=5)\n",
    "    x= tfidf_movies_genres_matrix\n",
    "    y = df_movies.iloc[:,-1]\n",
    "    classifier.fit(x, y)\n",
    "    y_pred = classifier.predict(tfidf_movies_genres_matrix[movie_id])\n",
    "    return y_pred"
   ]
  },
  {
   "cell_type": "code",
   "execution_count": 45,
   "id": "365c9817",
   "metadata": {
    "scrolled": true
   },
   "outputs": [
    {
     "name": "stdout",
     "output_type": "stream",
     "text": [
      "<class 'pandas.core.frame.DataFrame'>\n",
      "RangeIndex: 9742 entries, 0 to 9741\n",
      "Data columns (total 4 columns):\n",
      " #   Column   Non-Null Count  Dtype \n",
      "---  ------   --------------  ----- \n",
      " 0   movieId  9742 non-null   int64 \n",
      " 1   title    9742 non-null   object\n",
      " 2   genres   9742 non-null   object\n",
      " 3   year     9729 non-null   object\n",
      "dtypes: int64(1), object(3)\n",
      "memory usage: 304.6+ KB\n"
     ]
    }
   ],
   "source": [
    "df_movies.info()"
   ]
  },
  {
   "cell_type": "code",
   "execution_count": 44,
   "id": "8cfd029f",
   "metadata": {},
   "outputs": [
    {
     "ename": "ValueError",
     "evalue": "Input contains NaN",
     "output_type": "error",
     "traceback": [
      "\u001b[1;31m---------------------------------------------------------------------------\u001b[0m",
      "\u001b[1;31mValueError\u001b[0m                                Traceback (most recent call last)",
      "\u001b[1;32m<ipython-input-44-73781e44b919>\u001b[0m in \u001b[0;36m<module>\u001b[1;34m\u001b[0m\n\u001b[0;32m     16\u001b[0m \u001b[1;31m#                 print(predicted_genre)\u001b[0m\u001b[1;33m\u001b[0m\u001b[1;33m\u001b[0m\u001b[1;33m\u001b[0m\u001b[0m\n\u001b[0;32m     17\u001b[0m                 \u001b[0mfalse_count\u001b[0m \u001b[1;33m=\u001b[0m \u001b[0mfalse_count\u001b[0m \u001b[1;33m+\u001b[0m\u001b[1;36m1\u001b[0m\u001b[1;33m\u001b[0m\u001b[1;33m\u001b[0m\u001b[0m\n\u001b[1;32m---> 18\u001b[1;33m \u001b[0mevaluate_content_based_model\u001b[0m\u001b[1;33m(\u001b[0m\u001b[1;33m)\u001b[0m\u001b[1;33m\u001b[0m\u001b[1;33m\u001b[0m\u001b[0m\n\u001b[0m\u001b[0;32m     19\u001b[0m \u001b[0mtotal\u001b[0m \u001b[1;33m=\u001b[0m \u001b[0mtrue_count\u001b[0m \u001b[1;33m+\u001b[0m \u001b[0mfalse_count\u001b[0m\u001b[1;33m\u001b[0m\u001b[1;33m\u001b[0m\u001b[0m\n\u001b[0;32m     20\u001b[0m \u001b[0mprint\u001b[0m\u001b[1;33m(\u001b[0m\u001b[1;34m\"Hit:\"\u001b[0m\u001b[1;33m+\u001b[0m \u001b[0mstr\u001b[0m\u001b[1;33m(\u001b[0m\u001b[0mtrue_count\u001b[0m\u001b[1;33m/\u001b[0m\u001b[0mtotal\u001b[0m\u001b[1;33m)\u001b[0m\u001b[1;33m)\u001b[0m\u001b[1;33m\u001b[0m\u001b[1;33m\u001b[0m\u001b[0m\n",
      "\u001b[1;32m<ipython-input-44-73781e44b919>\u001b[0m in \u001b[0;36mevaluate_content_based_model\u001b[1;34m()\u001b[0m\n\u001b[0;32m      7\u001b[0m     \u001b[1;32mfor\u001b[0m \u001b[0mkey\u001b[0m\u001b[1;33m,\u001b[0m \u001b[0mcolums\u001b[0m \u001b[1;32min\u001b[0m \u001b[0mdf_movies\u001b[0m\u001b[1;33m.\u001b[0m\u001b[0miterrows\u001b[0m\u001b[1;33m(\u001b[0m\u001b[1;33m)\u001b[0m\u001b[1;33m:\u001b[0m\u001b[1;33m\u001b[0m\u001b[1;33m\u001b[0m\u001b[0m\n\u001b[0;32m      8\u001b[0m         \u001b[0mmovies_recommended_by_model\u001b[0m \u001b[1;33m=\u001b[0m \u001b[0mget_recommendations_based_on_genres\u001b[0m\u001b[1;33m(\u001b[0m\u001b[0mcolums\u001b[0m\u001b[1;33m[\u001b[0m\u001b[1;34m\"title\"\u001b[0m\u001b[1;33m]\u001b[0m\u001b[1;33m)\u001b[0m\u001b[1;33m\u001b[0m\u001b[1;33m\u001b[0m\u001b[0m\n\u001b[1;32m----> 9\u001b[1;33m         \u001b[0mpredicted_genres\u001b[0m  \u001b[1;33m=\u001b[0m \u001b[0mget_movie_label\u001b[0m\u001b[1;33m(\u001b[0m\u001b[0mmovies_recommended_by_model\u001b[0m\u001b[1;33m.\u001b[0m\u001b[0mindex\u001b[0m\u001b[1;33m)\u001b[0m\u001b[1;33m\u001b[0m\u001b[1;33m\u001b[0m\u001b[0m\n\u001b[0m\u001b[0;32m     10\u001b[0m         \u001b[1;32mfor\u001b[0m \u001b[0mpredicted_genre\u001b[0m \u001b[1;32min\u001b[0m \u001b[0mpredicted_genres\u001b[0m\u001b[1;33m:\u001b[0m\u001b[1;33m\u001b[0m\u001b[1;33m\u001b[0m\u001b[0m\n\u001b[0;32m     11\u001b[0m             \u001b[1;32mglobal\u001b[0m \u001b[0mtrue_count\u001b[0m\u001b[1;33m,\u001b[0m \u001b[0mfalse_count\u001b[0m\u001b[1;33m\u001b[0m\u001b[1;33m\u001b[0m\u001b[0m\n",
      "\u001b[1;32m<ipython-input-43-ec8e0ade2ebd>\u001b[0m in \u001b[0;36mget_movie_label\u001b[1;34m(movie_id)\u001b[0m\n\u001b[0;32m      9\u001b[0m     \u001b[0mx\u001b[0m\u001b[1;33m=\u001b[0m \u001b[0mtfidf_movies_genres_matrix\u001b[0m\u001b[1;33m\u001b[0m\u001b[1;33m\u001b[0m\u001b[0m\n\u001b[0;32m     10\u001b[0m     \u001b[0my\u001b[0m \u001b[1;33m=\u001b[0m \u001b[0mdf_movies\u001b[0m\u001b[1;33m.\u001b[0m\u001b[0miloc\u001b[0m\u001b[1;33m[\u001b[0m\u001b[1;33m:\u001b[0m\u001b[1;33m,\u001b[0m\u001b[1;33m-\u001b[0m\u001b[1;36m1\u001b[0m\u001b[1;33m]\u001b[0m\u001b[1;33m\u001b[0m\u001b[1;33m\u001b[0m\u001b[0m\n\u001b[1;32m---> 11\u001b[1;33m     \u001b[0mclassifier\u001b[0m\u001b[1;33m.\u001b[0m\u001b[0mfit\u001b[0m\u001b[1;33m(\u001b[0m\u001b[0mx\u001b[0m\u001b[1;33m,\u001b[0m \u001b[0my\u001b[0m\u001b[1;33m)\u001b[0m\u001b[1;33m\u001b[0m\u001b[1;33m\u001b[0m\u001b[0m\n\u001b[0m\u001b[0;32m     12\u001b[0m     \u001b[0my_pred\u001b[0m \u001b[1;33m=\u001b[0m \u001b[0mclassifier\u001b[0m\u001b[1;33m.\u001b[0m\u001b[0mpredict\u001b[0m\u001b[1;33m(\u001b[0m\u001b[0mtfidf_movies_genres_matrix\u001b[0m\u001b[1;33m[\u001b[0m\u001b[0mmovie_id\u001b[0m\u001b[1;33m]\u001b[0m\u001b[1;33m)\u001b[0m\u001b[1;33m\u001b[0m\u001b[1;33m\u001b[0m\u001b[0m\n\u001b[0;32m     13\u001b[0m     \u001b[1;32mreturn\u001b[0m \u001b[0my_pred\u001b[0m\u001b[1;33m\u001b[0m\u001b[1;33m\u001b[0m\u001b[0m\n",
      "\u001b[1;32m~\\anaconda3\\lib\\site-packages\\sklearn\\neighbors\\_classification.py\u001b[0m in \u001b[0;36mfit\u001b[1;34m(self, X, y)\u001b[0m\n\u001b[0;32m    177\u001b[0m             \u001b[0mThe\u001b[0m \u001b[0mfitted\u001b[0m \u001b[0mk\u001b[0m\u001b[1;33m-\u001b[0m\u001b[0mnearest\u001b[0m \u001b[0mneighbors\u001b[0m \u001b[0mclassifier\u001b[0m\u001b[1;33m.\u001b[0m\u001b[1;33m\u001b[0m\u001b[1;33m\u001b[0m\u001b[0m\n\u001b[0;32m    178\u001b[0m         \"\"\"\n\u001b[1;32m--> 179\u001b[1;33m         \u001b[1;32mreturn\u001b[0m \u001b[0mself\u001b[0m\u001b[1;33m.\u001b[0m\u001b[0m_fit\u001b[0m\u001b[1;33m(\u001b[0m\u001b[0mX\u001b[0m\u001b[1;33m,\u001b[0m \u001b[0my\u001b[0m\u001b[1;33m)\u001b[0m\u001b[1;33m\u001b[0m\u001b[1;33m\u001b[0m\u001b[0m\n\u001b[0m\u001b[0;32m    180\u001b[0m \u001b[1;33m\u001b[0m\u001b[0m\n\u001b[0;32m    181\u001b[0m     \u001b[1;32mdef\u001b[0m \u001b[0mpredict\u001b[0m\u001b[1;33m(\u001b[0m\u001b[0mself\u001b[0m\u001b[1;33m,\u001b[0m \u001b[0mX\u001b[0m\u001b[1;33m)\u001b[0m\u001b[1;33m:\u001b[0m\u001b[1;33m\u001b[0m\u001b[1;33m\u001b[0m\u001b[0m\n",
      "\u001b[1;32m~\\anaconda3\\lib\\site-packages\\sklearn\\neighbors\\_base.py\u001b[0m in \u001b[0;36m_fit\u001b[1;34m(self, X, y)\u001b[0m\n\u001b[0;32m    361\u001b[0m         \u001b[1;32mif\u001b[0m \u001b[0mself\u001b[0m\u001b[1;33m.\u001b[0m\u001b[0m_get_tags\u001b[0m\u001b[1;33m(\u001b[0m\u001b[1;33m)\u001b[0m\u001b[1;33m[\u001b[0m\u001b[1;34m\"requires_y\"\u001b[0m\u001b[1;33m]\u001b[0m\u001b[1;33m:\u001b[0m\u001b[1;33m\u001b[0m\u001b[1;33m\u001b[0m\u001b[0m\n\u001b[0;32m    362\u001b[0m             \u001b[1;32mif\u001b[0m \u001b[1;32mnot\u001b[0m \u001b[0misinstance\u001b[0m\u001b[1;33m(\u001b[0m\u001b[0mX\u001b[0m\u001b[1;33m,\u001b[0m \u001b[1;33m(\u001b[0m\u001b[0mKDTree\u001b[0m\u001b[1;33m,\u001b[0m \u001b[0mBallTree\u001b[0m\u001b[1;33m,\u001b[0m \u001b[0mNeighborsBase\u001b[0m\u001b[1;33m)\u001b[0m\u001b[1;33m)\u001b[0m\u001b[1;33m:\u001b[0m\u001b[1;33m\u001b[0m\u001b[1;33m\u001b[0m\u001b[0m\n\u001b[1;32m--> 363\u001b[1;33m                 X, y = self._validate_data(X, y, accept_sparse=\"csr\",\n\u001b[0m\u001b[0;32m    364\u001b[0m                                            multi_output=True)\n\u001b[0;32m    365\u001b[0m \u001b[1;33m\u001b[0m\u001b[0m\n",
      "\u001b[1;32m~\\anaconda3\\lib\\site-packages\\sklearn\\base.py\u001b[0m in \u001b[0;36m_validate_data\u001b[1;34m(self, X, y, reset, validate_separately, **check_params)\u001b[0m\n\u001b[0;32m    431\u001b[0m                 \u001b[0my\u001b[0m \u001b[1;33m=\u001b[0m \u001b[0mcheck_array\u001b[0m\u001b[1;33m(\u001b[0m\u001b[0my\u001b[0m\u001b[1;33m,\u001b[0m \u001b[1;33m**\u001b[0m\u001b[0mcheck_y_params\u001b[0m\u001b[1;33m)\u001b[0m\u001b[1;33m\u001b[0m\u001b[1;33m\u001b[0m\u001b[0m\n\u001b[0;32m    432\u001b[0m             \u001b[1;32melse\u001b[0m\u001b[1;33m:\u001b[0m\u001b[1;33m\u001b[0m\u001b[1;33m\u001b[0m\u001b[0m\n\u001b[1;32m--> 433\u001b[1;33m                 \u001b[0mX\u001b[0m\u001b[1;33m,\u001b[0m \u001b[0my\u001b[0m \u001b[1;33m=\u001b[0m \u001b[0mcheck_X_y\u001b[0m\u001b[1;33m(\u001b[0m\u001b[0mX\u001b[0m\u001b[1;33m,\u001b[0m \u001b[0my\u001b[0m\u001b[1;33m,\u001b[0m \u001b[1;33m**\u001b[0m\u001b[0mcheck_params\u001b[0m\u001b[1;33m)\u001b[0m\u001b[1;33m\u001b[0m\u001b[1;33m\u001b[0m\u001b[0m\n\u001b[0m\u001b[0;32m    434\u001b[0m             \u001b[0mout\u001b[0m \u001b[1;33m=\u001b[0m \u001b[0mX\u001b[0m\u001b[1;33m,\u001b[0m \u001b[0my\u001b[0m\u001b[1;33m\u001b[0m\u001b[1;33m\u001b[0m\u001b[0m\n\u001b[0;32m    435\u001b[0m \u001b[1;33m\u001b[0m\u001b[0m\n",
      "\u001b[1;32m~\\anaconda3\\lib\\site-packages\\sklearn\\utils\\validation.py\u001b[0m in \u001b[0;36minner_f\u001b[1;34m(*args, **kwargs)\u001b[0m\n\u001b[0;32m     61\u001b[0m             \u001b[0mextra_args\u001b[0m \u001b[1;33m=\u001b[0m \u001b[0mlen\u001b[0m\u001b[1;33m(\u001b[0m\u001b[0margs\u001b[0m\u001b[1;33m)\u001b[0m \u001b[1;33m-\u001b[0m \u001b[0mlen\u001b[0m\u001b[1;33m(\u001b[0m\u001b[0mall_args\u001b[0m\u001b[1;33m)\u001b[0m\u001b[1;33m\u001b[0m\u001b[1;33m\u001b[0m\u001b[0m\n\u001b[0;32m     62\u001b[0m             \u001b[1;32mif\u001b[0m \u001b[0mextra_args\u001b[0m \u001b[1;33m<=\u001b[0m \u001b[1;36m0\u001b[0m\u001b[1;33m:\u001b[0m\u001b[1;33m\u001b[0m\u001b[1;33m\u001b[0m\u001b[0m\n\u001b[1;32m---> 63\u001b[1;33m                 \u001b[1;32mreturn\u001b[0m \u001b[0mf\u001b[0m\u001b[1;33m(\u001b[0m\u001b[1;33m*\u001b[0m\u001b[0margs\u001b[0m\u001b[1;33m,\u001b[0m \u001b[1;33m**\u001b[0m\u001b[0mkwargs\u001b[0m\u001b[1;33m)\u001b[0m\u001b[1;33m\u001b[0m\u001b[1;33m\u001b[0m\u001b[0m\n\u001b[0m\u001b[0;32m     64\u001b[0m \u001b[1;33m\u001b[0m\u001b[0m\n\u001b[0;32m     65\u001b[0m             \u001b[1;31m# extra_args > 0\u001b[0m\u001b[1;33m\u001b[0m\u001b[1;33m\u001b[0m\u001b[1;33m\u001b[0m\u001b[0m\n",
      "\u001b[1;32m~\\anaconda3\\lib\\site-packages\\sklearn\\utils\\validation.py\u001b[0m in \u001b[0;36mcheck_X_y\u001b[1;34m(X, y, accept_sparse, accept_large_sparse, dtype, order, copy, force_all_finite, ensure_2d, allow_nd, multi_output, ensure_min_samples, ensure_min_features, y_numeric, estimator)\u001b[0m\n\u001b[0;32m    821\u001b[0m                     estimator=estimator)\n\u001b[0;32m    822\u001b[0m     \u001b[1;32mif\u001b[0m \u001b[0mmulti_output\u001b[0m\u001b[1;33m:\u001b[0m\u001b[1;33m\u001b[0m\u001b[1;33m\u001b[0m\u001b[0m\n\u001b[1;32m--> 823\u001b[1;33m         y = check_array(y, accept_sparse='csr', force_all_finite=True,\n\u001b[0m\u001b[0;32m    824\u001b[0m                         ensure_2d=False, dtype=None)\n\u001b[0;32m    825\u001b[0m     \u001b[1;32melse\u001b[0m\u001b[1;33m:\u001b[0m\u001b[1;33m\u001b[0m\u001b[1;33m\u001b[0m\u001b[0m\n",
      "\u001b[1;32m~\\anaconda3\\lib\\site-packages\\sklearn\\utils\\validation.py\u001b[0m in \u001b[0;36minner_f\u001b[1;34m(*args, **kwargs)\u001b[0m\n\u001b[0;32m     61\u001b[0m             \u001b[0mextra_args\u001b[0m \u001b[1;33m=\u001b[0m \u001b[0mlen\u001b[0m\u001b[1;33m(\u001b[0m\u001b[0margs\u001b[0m\u001b[1;33m)\u001b[0m \u001b[1;33m-\u001b[0m \u001b[0mlen\u001b[0m\u001b[1;33m(\u001b[0m\u001b[0mall_args\u001b[0m\u001b[1;33m)\u001b[0m\u001b[1;33m\u001b[0m\u001b[1;33m\u001b[0m\u001b[0m\n\u001b[0;32m     62\u001b[0m             \u001b[1;32mif\u001b[0m \u001b[0mextra_args\u001b[0m \u001b[1;33m<=\u001b[0m \u001b[1;36m0\u001b[0m\u001b[1;33m:\u001b[0m\u001b[1;33m\u001b[0m\u001b[1;33m\u001b[0m\u001b[0m\n\u001b[1;32m---> 63\u001b[1;33m                 \u001b[1;32mreturn\u001b[0m \u001b[0mf\u001b[0m\u001b[1;33m(\u001b[0m\u001b[1;33m*\u001b[0m\u001b[0margs\u001b[0m\u001b[1;33m,\u001b[0m \u001b[1;33m**\u001b[0m\u001b[0mkwargs\u001b[0m\u001b[1;33m)\u001b[0m\u001b[1;33m\u001b[0m\u001b[1;33m\u001b[0m\u001b[0m\n\u001b[0m\u001b[0;32m     64\u001b[0m \u001b[1;33m\u001b[0m\u001b[0m\n\u001b[0;32m     65\u001b[0m             \u001b[1;31m# extra_args > 0\u001b[0m\u001b[1;33m\u001b[0m\u001b[1;33m\u001b[0m\u001b[1;33m\u001b[0m\u001b[0m\n",
      "\u001b[1;32m~\\anaconda3\\lib\\site-packages\\sklearn\\utils\\validation.py\u001b[0m in \u001b[0;36mcheck_array\u001b[1;34m(array, accept_sparse, accept_large_sparse, dtype, order, copy, force_all_finite, ensure_2d, allow_nd, ensure_min_samples, ensure_min_features, estimator)\u001b[0m\n\u001b[0;32m    661\u001b[0m \u001b[1;33m\u001b[0m\u001b[0m\n\u001b[0;32m    662\u001b[0m         \u001b[1;32mif\u001b[0m \u001b[0mforce_all_finite\u001b[0m\u001b[1;33m:\u001b[0m\u001b[1;33m\u001b[0m\u001b[1;33m\u001b[0m\u001b[0m\n\u001b[1;32m--> 663\u001b[1;33m             _assert_all_finite(array,\n\u001b[0m\u001b[0;32m    664\u001b[0m                                allow_nan=force_all_finite == 'allow-nan')\n\u001b[0;32m    665\u001b[0m \u001b[1;33m\u001b[0m\u001b[0m\n",
      "\u001b[1;32m~\\anaconda3\\lib\\site-packages\\sklearn\\utils\\validation.py\u001b[0m in \u001b[0;36m_assert_all_finite\u001b[1;34m(X, allow_nan, msg_dtype)\u001b[0m\n\u001b[0;32m    109\u001b[0m     \u001b[1;32melif\u001b[0m \u001b[0mX\u001b[0m\u001b[1;33m.\u001b[0m\u001b[0mdtype\u001b[0m \u001b[1;33m==\u001b[0m \u001b[0mnp\u001b[0m\u001b[1;33m.\u001b[0m\u001b[0mdtype\u001b[0m\u001b[1;33m(\u001b[0m\u001b[1;34m'object'\u001b[0m\u001b[1;33m)\u001b[0m \u001b[1;32mand\u001b[0m \u001b[1;32mnot\u001b[0m \u001b[0mallow_nan\u001b[0m\u001b[1;33m:\u001b[0m\u001b[1;33m\u001b[0m\u001b[1;33m\u001b[0m\u001b[0m\n\u001b[0;32m    110\u001b[0m         \u001b[1;32mif\u001b[0m \u001b[0m_object_dtype_isnan\u001b[0m\u001b[1;33m(\u001b[0m\u001b[0mX\u001b[0m\u001b[1;33m)\u001b[0m\u001b[1;33m.\u001b[0m\u001b[0many\u001b[0m\u001b[1;33m(\u001b[0m\u001b[1;33m)\u001b[0m\u001b[1;33m:\u001b[0m\u001b[1;33m\u001b[0m\u001b[1;33m\u001b[0m\u001b[0m\n\u001b[1;32m--> 111\u001b[1;33m             \u001b[1;32mraise\u001b[0m \u001b[0mValueError\u001b[0m\u001b[1;33m(\u001b[0m\u001b[1;34m\"Input contains NaN\"\u001b[0m\u001b[1;33m)\u001b[0m\u001b[1;33m\u001b[0m\u001b[1;33m\u001b[0m\u001b[0m\n\u001b[0m\u001b[0;32m    112\u001b[0m \u001b[1;33m\u001b[0m\u001b[0m\n\u001b[0;32m    113\u001b[0m \u001b[1;33m\u001b[0m\u001b[0m\n",
      "\u001b[1;31mValueError\u001b[0m: Input contains NaN"
     ]
    }
   ],
   "source": [
    "true_count = 0\n",
    "false_count = 0\n",
    "def evaluate_content_based_model():\n",
    "    \"\"\"\n",
    "    Evaluate content based model.  \n",
    "    \"\"\"\n",
    "    for key, colums in df_movies.iterrows():\n",
    "        movies_recommended_by_model = get_recommendations_based_on_genres(colums[\"title\"])\n",
    "        predicted_genres  = get_movie_label(movies_recommended_by_model.index)\n",
    "        for predicted_genre in predicted_genres:\n",
    "            global true_count, false_count\n",
    "            if predicted_genre == colums[\"genres\"]:\n",
    "                true_count = true_count+1\n",
    "            else:\n",
    "#                 print(colums[\"genres\"])\n",
    "#                 print(predicted_genre)\n",
    "                false_count = false_count +1\n",
    "evaluate_content_based_model()\n",
    "total = true_count + false_count\n",
    "print(\"Hit:\"+ str(true_count/total))\n",
    "print(\"Fault:\" + str(false_count/total))"
   ]
  },
  {
   "cell_type": "code",
   "execution_count": null,
   "id": "992a3077",
   "metadata": {},
   "outputs": [],
   "source": [
    "from sklearn.metrics import pairwise_distances\n",
    "from scipy.spatial.distance import cosine, correlation"
   ]
  },
  {
   "cell_type": "code",
   "execution_count": null,
   "id": "5db8e64b",
   "metadata": {},
   "outputs": [],
   "source": [
    "df_movies_ratings=pd.merge(df_movies, df_ratings)"
   ]
  },
  {
   "cell_type": "code",
   "execution_count": null,
   "id": "deabc9e0",
   "metadata": {},
   "outputs": [],
   "source": [
    "df_movies_ratings"
   ]
  },
  {
   "cell_type": "code",
   "execution_count": null,
   "id": "89cd9ec7",
   "metadata": {},
   "outputs": [],
   "source": [
    "ratings_matrix_items = df_movies_ratings.pivot_table(index=['movieId'],columns=['userId'],values='rating').reset_index(drop=True)\n",
    "ratings_matrix_items.fillna( 0, inplace = True )\n",
    "ratings_matrix_items.shape\n",
    "ratings_matrix_items.head()"
   ]
  },
  {
   "cell_type": "code",
   "execution_count": null,
   "id": "06ad3142",
   "metadata": {},
   "outputs": [],
   "source": [
    "movie_similarity = 1 - pairwise_distances( ratings_matrix_items.values, metric=\"cosine\" )\n",
    "np.fill_diagonal( movie_similarity, 0 ) #Filling diagonals with 0s for future use when sorting is done\n",
    "ratings_matrix_items = pd.DataFrame( movie_similarity )\n",
    "ratings_matrix_items.tail()"
   ]
  },
  {
   "cell_type": "code",
   "execution_count": null,
   "id": "ebbac0c4",
   "metadata": {},
   "outputs": [],
   "source": [
    "def item_similarity(movieName): \n",
    "    \"\"\"\n",
    "    recomendates similar movies\n",
    "   :param data: name of the movie \n",
    "   \"\"\"\n",
    "    try:\n",
    "        #user_inp=input('Enter the reference movie title based on which recommendations are to be made: ')\n",
    "        user_inp=movieName\n",
    "        inp=df_movies[df_movies['title']==user_inp].index.tolist()\n",
    "        inp=inp[0]\n",
    "\n",
    "        df_movies['similarity'] = ratings_matrix_items.iloc[inp]\n",
    "        df_movies.columns = ['movie_id', 'title', 'release_date','similarity']\n",
    "    except:\n",
    "        print(\"Sorry, the movie is not in the database!\")"
   ]
  },
  {
   "cell_type": "code",
   "execution_count": null,
   "id": "885dbce5",
   "metadata": {},
   "outputs": [],
   "source": [
    "def recommendedMoviesAsperItemSimilarity(user_id):\n",
    "    \"\"\"\n",
    "     Recommending movie which user hasn't watched as per Item Similarity\n",
    "    :param user_id: user_id to whom movie needs to be recommended\n",
    "    :return: movieIds to user \n",
    "    \"\"\"\n",
    "    user_movie= df_movies_ratings[(df_movies_ratings.userId==user_id) & df_movies_ratings.rating.isin([5,3])][['title']]\n",
    "    user_movie=user_movie.iloc[0,0]\n",
    "    item_similarity(user_movie)\n",
    "    sorted_movies_as_per_userChoice=df_movies.sort_values( [\"similarity\"], ascending = False )\n",
    "    sorted_movies_as_per_userChoice=sorted_movies_as_per_userChoice[sorted_movies_as_per_userChoice['similarity'] >=0.45]['movie_id']\n",
    "    recommended_movies=list()\n",
    "    df_recommended_item=pd.DataFrame()\n",
    "    user2Movies= df_ratings[df_ratings['userId']== user_id]['movieId']\n",
    "    for movieId in sorted_movies_as_per_userChoice:\n",
    "            if movieId not in user2Movies:\n",
    "                df_new= df_ratings[(df_ratings.movieId==movieId)]\n",
    "                df_recommended_item=pd.concat([df_recommended_item,df_new])\n",
    "            best10=df_recommended_item.sort_values([\"rating\"], ascending = False )[1:10] \n",
    "    return best10['movieId']"
   ]
  },
  {
   "cell_type": "code",
   "execution_count": null,
   "id": "65bc2e21",
   "metadata": {},
   "outputs": [],
   "source": [
    "def movieIdToTitle(listMovieIDs):\n",
    "    \"\"\"\n",
    "     Converting movieId to titles\n",
    "    :param user_id: List of movies\n",
    "    :return: movie titles\n",
    "    \"\"\"\n",
    "    movie_titles= list()\n",
    "    for id in listMovieIDs:\n",
    "        movie_titles.append(df_movies[df_movies['movie_id']==id]['title'])\n",
    "    return movie_titles"
   ]
  },
  {
   "cell_type": "code",
   "execution_count": null,
   "id": "36c10cc5",
   "metadata": {},
   "outputs": [],
   "source": [
    "user_id=5\n",
    "print(\"Recommended movies,:\\n\",movieIdToTitle(recommendedMoviesAsperItemSimilarity(user_id)))"
   ]
  },
  {
   "cell_type": "code",
   "execution_count": null,
   "id": "657c76b6",
   "metadata": {},
   "outputs": [],
   "source": []
  }
 ],
 "metadata": {
  "colab": {
   "collapsed_sections": [],
   "name": "200968216_MLProject_Submission_1.ipynb",
   "provenance": [],
   "toc_visible": true
  },
  "kernelspec": {
   "display_name": "Python 3",
   "language": "python",
   "name": "python3"
  },
  "language_info": {
   "codemirror_mode": {
    "name": "ipython",
    "version": 3
   },
   "file_extension": ".py",
   "mimetype": "text/x-python",
   "name": "python",
   "nbconvert_exporter": "python",
   "pygments_lexer": "ipython3",
   "version": "3.8.8"
  }
 },
 "nbformat": 4,
 "nbformat_minor": 5
}
